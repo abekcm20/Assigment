{
 "cells": [
  {
   "cell_type": "markdown",
   "id": "62112718",
   "metadata": {},
   "source": [
    "Q1. In the below elements which of them are values or an expression? eg:- values can be\n",
    "integer or string and expressions will be mathematical operators."
   ]
  },
  {
   "cell_type": "markdown",
   "id": "b352a337",
   "metadata": {},
   "source": [
    "1(*) is mathematical operators.\n",
    "2(-) is mathematical operators.\n",
    "3(/) is mathematical operators.\n",
    "4(+) is mathematical operators"
   ]
  },
  {
   "cell_type": "markdown",
   "id": "c1b048fd",
   "metadata": {},
   "source": [
    "1(hello) is value.\n",
    "2(-87.8) is value."
   ]
  },
  {
   "cell_type": "markdown",
   "id": "75fe5a10",
   "metadata": {},
   "source": [
    "--------------------------------------------------------------------------------------------------------------------------------"
   ]
  },
  {
   "cell_type": "markdown",
   "id": "737a0061",
   "metadata": {},
   "source": [
    "Q2. What is the difference between string and variable?\n"
   ]
  },
  {
   "cell_type": "markdown",
   "id": "6309bb2a",
   "metadata": {},
   "source": [
    "variable are used to store the values, ans string is data type, we can store this string data in variable"
   ]
  },
  {
   "cell_type": "markdown",
   "id": "08a7cdc2",
   "metadata": {},
   "source": [
    "--------------------------------------------------------------------------------------------------------------------------------"
   ]
  },
  {
   "cell_type": "markdown",
   "id": "ecbf4765",
   "metadata": {},
   "source": [
    "Q3. Describe three different data types."
   ]
  },
  {
   "cell_type": "markdown",
   "id": "dc3c3108",
   "metadata": {},
   "source": [
    "string - string is a immutable data types,and we can iterate the characters"
   ]
  },
  {
   "cell_type": "code",
   "execution_count": 12,
   "id": "369f8cce",
   "metadata": {},
   "outputs": [
    {
     "name": "stdout",
     "output_type": "stream",
     "text": [
      "d\n",
      "a\n",
      "t\n",
      "a\n"
     ]
    }
   ],
   "source": [
    "stringdata = 'data'\n",
    "for i in stringdata:\n",
    "    print(i)"
   ]
  },
  {
   "cell_type": "markdown",
   "id": "8dd5d42a",
   "metadata": {},
   "source": [
    "int - int is integer data type\n"
   ]
  },
  {
   "cell_type": "code",
   "execution_count": 13,
   "id": "3bf2dc63",
   "metadata": {},
   "outputs": [
    {
     "name": "stdout",
     "output_type": "stream",
     "text": [
      "112\n"
     ]
    }
   ],
   "source": [
    "intdata = 112\n",
    "print(112)"
   ]
  },
  {
   "cell_type": "markdown",
   "id": "7e926203",
   "metadata": {},
   "source": [
    "float -  floating point number\n"
   ]
  },
  {
   "cell_type": "code",
   "execution_count": 14,
   "id": "64f28265",
   "metadata": {},
   "outputs": [
    {
     "name": "stdout",
     "output_type": "stream",
     "text": [
      "121.2\n"
     ]
    }
   ],
   "source": [
    "floatdata = 121.2\n",
    "print(floatdata)"
   ]
  },
  {
   "cell_type": "markdown",
   "id": "b34dc0f8",
   "metadata": {},
   "source": [
    "--------------------------------------------------------------------------------------------------------------------------------"
   ]
  },
  {
   "cell_type": "markdown",
   "id": "27b97de1",
   "metadata": {},
   "source": [
    "Q4.What is an expression made up of? What do all expressions do?\n"
   ]
  },
  {
   "cell_type": "markdown",
   "id": "523bc52f",
   "metadata": {},
   "source": [
    "Expression is a combination of operators and operands that is interpreted to produce some other value,expression is evaluated as per the precedence of its operators. So that if there is more than one operator in an expression, their precedence decides which operation will be performed first"
   ]
  },
  {
   "cell_type": "markdown",
   "id": "df1edc9a",
   "metadata": {},
   "source": [
    "different types of expressions in Python\n"
   ]
  },
  {
   "cell_type": "markdown",
   "id": "896e8a3f",
   "metadata": {},
   "source": [
    "Constant Expressions,Arithmetic Expressions, Integral Expressions,Floating Expressions,Relational Expressions,Logical Expressions,Bitwise Expressions,Combinational Expressions,Combinational Expressions"
   ]
  },
  {
   "cell_type": "markdown",
   "id": "734bceca",
   "metadata": {},
   "source": [
    "--------------------------------------------------------------------------------------------------------------------------------"
   ]
  },
  {
   "cell_type": "markdown",
   "id": "a7c54fec",
   "metadata": {},
   "source": [
    "Q4. This assignment statements, like spam = 10. What is the difference between an\n",
    "expression and a statement?"
   ]
  },
  {
   "cell_type": "markdown",
   "id": "750a124c",
   "metadata": {},
   "source": [
    "Expression is a combination of values its return the value, statement is just a standalone unit of execution doesn't return anything"
   ]
  },
  {
   "cell_type": "markdown",
   "id": "a66dd7c2",
   "metadata": {},
   "source": [
    "--------------------------------------------------------------------------------------------------------------------------------"
   ]
  },
  {
   "cell_type": "markdown",
   "id": "aa9239c9",
   "metadata": {},
   "source": [
    "Q5. After running the following code, what does the variable bacon contain?\n",
    "bacon = 22\n",
    "bacon + 1"
   ]
  },
  {
   "cell_type": "markdown",
   "id": "220c4c78",
   "metadata": {},
   "source": [
    "bacon value is 22, because bacon + 1 is increase the value, but its doesn't store the value to bacon"
   ]
  },
  {
   "cell_type": "markdown",
   "id": "b1a5aadd",
   "metadata": {},
   "source": [
    "--------------------------------------------------------------------------------------------------------------------------------"
   ]
  },
  {
   "cell_type": "markdown",
   "id": "2d5d5d23",
   "metadata": {},
   "source": [
    "Q6. What should the values of the following two terms be?\n",
    "spam + spamspam\n",
    "spam* 3"
   ]
  },
  {
   "cell_type": "markdown",
   "id": "c34f2868",
   "metadata": {},
   "source": [
    "'spam' + 'spamspam' is return the value is spamspamspam"
   ]
  },
  {
   "cell_type": "markdown",
   "id": "683a09dd",
   "metadata": {},
   "source": [
    "'spam'* 3 is return the vlues is spamspamspam"
   ]
  },
  {
   "cell_type": "markdown",
   "id": "9db39267",
   "metadata": {},
   "source": [
    "--------------------------------------------------------------------------------------------------------------------------------"
   ]
  },
  {
   "cell_type": "markdown",
   "id": "2de7cfef",
   "metadata": {},
   "source": [
    "Q7. Why is eggs a valid variable name while 100 is invalid?"
   ]
  },
  {
   "cell_type": "markdown",
   "id": "9b99c666",
   "metadata": {},
   "source": [
    "int cont used as variable name"
   ]
  },
  {
   "cell_type": "markdown",
   "id": "f396ea8e",
   "metadata": {},
   "source": [
    "--------------------------------------------------------------------------------------------------------------------------------"
   ]
  },
  {
   "cell_type": "markdown",
   "id": "9fc85c96",
   "metadata": {},
   "source": [
    "Q8.What three functions can be used to get the integer, floating-point number, or string\n",
    "version of a value?"
   ]
  },
  {
   "cell_type": "markdown",
   "id": "1e134b53",
   "metadata": {},
   "source": [
    "int(),str(),float()"
   ]
  },
  {
   "cell_type": "markdown",
   "id": "3d8a2b79",
   "metadata": {},
   "source": [
    "Q7.Why does this expression cause an error? How can you fix it?\n",
    "'I have eaten' + 99 + 'burritos'"
   ]
  },
  {
   "cell_type": "markdown",
   "id": "24f88b76",
   "metadata": {},
   "source": [
    "int value cont added to str value, we need to convert the 99 to str"
   ]
  },
  {
   "cell_type": "code",
   "execution_count": null,
   "id": "1efead23",
   "metadata": {},
   "outputs": [],
   "source": []
  }
 ],
 "metadata": {
  "kernelspec": {
   "display_name": "Python 3 (ipykernel)",
   "language": "python",
   "name": "python3"
  },
  "language_info": {
   "codemirror_mode": {
    "name": "ipython",
    "version": 3
   },
   "file_extension": ".py",
   "mimetype": "text/x-python",
   "name": "python",
   "nbconvert_exporter": "python",
   "pygments_lexer": "ipython3",
   "version": "3.9.12"
  }
 },
 "nbformat": 4,
 "nbformat_minor": 5
}
