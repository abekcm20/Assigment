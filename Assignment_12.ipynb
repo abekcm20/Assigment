{
 "cells": [
  {
   "cell_type": "markdown",
   "id": "f25c8b46",
   "metadata": {},
   "source": [
    "## 1. In what modes should the PdfFileReader() and PdfFileWriter() File objects will be opened?"
   ]
  },
  {
   "cell_type": "markdown",
   "id": "20714d6a",
   "metadata": {},
   "source": [
    "PdfFileReader() file opened in rb -> read binary mode and PdfFileWriter() file opened in wb -> write binary mode."
   ]
  },
  {
   "cell_type": "markdown",
   "id": "65bc819d",
   "metadata": {},
   "source": [
    "## 2. From a PdfFileReader object, how do you get a Page object for page 5?"
   ]
  },
  {
   "cell_type": "markdown",
   "id": "d7d458c3",
   "metadata": {},
   "source": [
    "getPage(page_no)"
   ]
  },
  {
   "cell_type": "markdown",
   "id": "6769818e",
   "metadata": {},
   "source": [
    "## 3. What PdfFileReader variable stores the number of pages in the PDF document?"
   ]
  },
  {
   "cell_type": "markdown",
   "id": "ab978d77",
   "metadata": {},
   "source": [
    "getNumPages() method of PdfFileReader"
   ]
  },
  {
   "cell_type": "markdown",
   "id": "d86446fa",
   "metadata": {},
   "source": [
    "## 4. If a PdfFileReader object’s PDF is encrypted with the password swordfish, what must you do before you can obtain Page objects from it?"
   ]
  },
  {
   "cell_type": "markdown",
   "id": "0d050615",
   "metadata": {},
   "source": [
    "if pdf is encrypted use the decrypt()"
   ]
  },
  {
   "cell_type": "markdown",
   "id": "6f9fa9eb",
   "metadata": {},
   "source": [
    "## 5. What methods do you use to rotate a page?"
   ]
  },
  {
   "cell_type": "markdown",
   "id": "b525ec44",
   "metadata": {},
   "source": [
    "rotateClockWise() -> For Clockwise rotation"
   ]
  },
  {
   "cell_type": "markdown",
   "id": "f6c29130",
   "metadata": {},
   "source": [
    "rotateCounterClockWise() -> For Counter Clockwise rotation"
   ]
  },
  {
   "cell_type": "markdown",
   "id": "000696d9",
   "metadata": {},
   "source": [
    "## 6. What is the difference between a Run object and a Paragraph object?"
   ]
  },
  {
   "cell_type": "markdown",
   "id": "9b93846f",
   "metadata": {},
   "source": [
    "Run object and a Paragraph object refer to specific elements within a Word document using the python-docx library"
   ]
  },
  {
   "cell_type": "markdown",
   "id": "dd84a5cd",
   "metadata": {},
   "source": [
    "Run object represents a contiguous run of characters within a Paragraph object that share the same character formatting properties, such as font, size, color"
   ]
  },
  {
   "cell_type": "markdown",
   "id": "6b2335f5",
   "metadata": {},
   "source": [
    "Paragraph object represents a block of text that is separated from adjacent blocks by a paragraph mark and has its own paragraph formatting properties, such as alignment, indentation, and spacing."
   ]
  },
  {
   "cell_type": "markdown",
   "id": "a59d4628",
   "metadata": {},
   "source": [
    "## 7. How do you obtain a list of Paragraph objects for a Document object that’s stored in a variable named doc?"
   ]
  },
  {
   "cell_type": "code",
   "execution_count": null,
   "id": "719683bd",
   "metadata": {},
   "outputs": [],
   "source": [
    "from docx import Document\n",
    "doc = Document(\"sample.docx\")\n",
    "print(doc.paragraphs)\n",
    "for paragraph in doc.paragraphs:\n",
    "    print(paragraph.text) "
   ]
  },
  {
   "cell_type": "markdown",
   "id": "ec19b7f5",
   "metadata": {},
   "source": [
    "## 8. What type of object has bold, underline, italic, strike, and outline variables?"
   ]
  },
  {
   "cell_type": "markdown",
   "id": "cdab7692",
   "metadata": {},
   "source": [
    "Run object"
   ]
  },
  {
   "cell_type": "markdown",
   "id": "ac0879a9",
   "metadata": {},
   "source": [
    "## 9. What is the difference between False, True, and None for the bold variable?"
   ]
  },
  {
   "cell_type": "markdown",
   "id": "bc613a24",
   "metadata": {},
   "source": [
    "True-Style Set to Bold\n",
    "False-Style Not Set to Bold\n",
    "None-Style is Not Applicable"
   ]
  },
  {
   "cell_type": "markdown",
   "id": "870f980b",
   "metadata": {},
   "source": [
    "## 10. How do you create a Document object for a new Word document?"
   ]
  },
  {
   "cell_type": "code",
   "execution_count": null,
   "id": "da17cc28",
   "metadata": {},
   "outputs": [],
   "source": [
    "from docx import Document\n",
    "document = Document()\n",
    "document.add_paragraph(\"How do you create a Document object for a new Word document\")\n",
    "document.save('sample.docx')"
   ]
  },
  {
   "cell_type": "markdown",
   "id": "a7a5762e",
   "metadata": {},
   "source": [
    "## 11. How do you add a paragraph with the text &#39;Hello, there!&#39; to a Document object stored in a variable named doc?"
   ]
  },
  {
   "cell_type": "code",
   "execution_count": null,
   "id": "0125b58c",
   "metadata": {},
   "outputs": [],
   "source": [
    "from docx import Document\n",
    "doc = Document()\n",
    "doc.add_paragraph('Hello, there!')\n",
    "doc.save('hello.docx')"
   ]
  },
  {
   "cell_type": "markdown",
   "id": "f16c1da6",
   "metadata": {},
   "source": [
    "## 12. What integers represent the levels of headings available in Word documents?"
   ]
  },
  {
   "cell_type": "markdown",
   "id": "574b1305",
   "metadata": {},
   "source": [
    "we can represent the levels using the level attribute inside the add_heading method"
   ]
  },
  {
   "cell_type": "code",
   "execution_count": null,
   "id": "de399c17",
   "metadata": {},
   "outputs": [],
   "source": []
  }
 ],
 "metadata": {
  "kernelspec": {
   "display_name": "Python 3 (ipykernel)",
   "language": "python",
   "name": "python3"
  },
  "language_info": {
   "codemirror_mode": {
    "name": "ipython",
    "version": 3
   },
   "file_extension": ".py",
   "mimetype": "text/x-python",
   "name": "python",
   "nbconvert_exporter": "python",
   "pygments_lexer": "ipython3",
   "version": "3.9.13"
  }
 },
 "nbformat": 4,
 "nbformat_minor": 5
}
