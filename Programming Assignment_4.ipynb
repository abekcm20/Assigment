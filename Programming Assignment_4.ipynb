{
 "cells": [
  {
   "cell_type": "markdown",
   "id": "0ce3663a",
   "metadata": {},
   "source": [
    "## 1. Write a Python Program to Find the Factorial of a Number?"
   ]
  },
  {
   "cell_type": "code",
   "execution_count": 2,
   "id": "112be876",
   "metadata": {},
   "outputs": [
    {
     "name": "stdout",
     "output_type": "stream",
     "text": [
      "Enter a number: 4\n",
      "The factorial of 4 is 24\n"
     ]
    }
   ],
   "source": [
    "num = int(input(\"Enter a number: \"))\n",
    "factorial = 1\n",
    "for i in range(1,num+1):\n",
    "    factorial = factorial * i\n",
    "print(\"The factorial of\", num, \"is\", factorial)"
   ]
  },
  {
   "cell_type": "markdown",
   "id": "942cfe1f",
   "metadata": {},
   "source": [
    "## 2. Write a Python Program to Display the multiplication Table?"
   ]
  },
  {
   "cell_type": "code",
   "execution_count": 3,
   "id": "6cabfc13",
   "metadata": {},
   "outputs": [
    {
     "name": "stdout",
     "output_type": "stream",
     "text": [
      "Enter a number: 6\n",
      "6 x 1 = 6\n",
      "6 x 2 = 12\n",
      "6 x 3 = 18\n",
      "6 x 4 = 24\n",
      "6 x 5 = 30\n",
      "6 x 6 = 36\n",
      "6 x 7 = 42\n",
      "6 x 8 = 48\n",
      "6 x 9 = 54\n",
      "6 x 10 = 60\n"
     ]
    }
   ],
   "source": [
    "num=int(input(\"Enter a number: \"))\n",
    "for i in range(1, 11):\n",
    "    print(num, 'x', i, '=', num*i)"
   ]
  },
  {
   "cell_type": "markdown",
   "id": "a6b6400d",
   "metadata": {},
   "source": [
    "## 3. Write a Python Program to Print the Fibonacci sequence?"
   ]
  },
  {
   "cell_type": "code",
   "execution_count": 9,
   "id": "67656211",
   "metadata": {},
   "outputs": [
    {
     "name": "stdout",
     "output_type": "stream",
     "text": [
      "Enter the terms 10\n",
      "0 1, 1, 2, 3, 5, 8, 13, 21, 34, "
     ]
    }
   ],
   "source": [
    "a=int(input(\"Enter the terms \"))\n",
    "first=0                                         \n",
    "second=1\n",
    "if a<=0:\n",
    "    print(\"The requested series is\",first)\n",
    "else:\n",
    "    print(first,second,end=\", \")\n",
    "    for x in range(2,a):\n",
    "        next=first+second                           \n",
    "        print(next,end=\", \")\n",
    "        first=second\n",
    "        second=next"
   ]
  },
  {
   "cell_type": "markdown",
   "id": "093a1898",
   "metadata": {},
   "source": [
    "## 4. Write a Python Program to Check Armstrong Number?"
   ]
  },
  {
   "cell_type": "code",
   "execution_count": 11,
   "id": "4488c0e7",
   "metadata": {},
   "outputs": [
    {
     "name": "stdout",
     "output_type": "stream",
     "text": [
      "Enter a number: 10\n",
      "10 is not an Armstrong number\n"
     ]
    }
   ],
   "source": [
    "num = int(input(\"Enter a number: \"))\n",
    "sum = 0\n",
    "temp = num\n",
    "while temp > 0:\n",
    "    digit = temp % 10\n",
    "    sum += digit ** 3\n",
    "    temp //= 10\n",
    "if num == sum:\n",
    "    print(num,\"is an Armstrong number\")\n",
    "else:\n",
    "    print(num,\"is not an Armstrong number\")"
   ]
  },
  {
   "cell_type": "markdown",
   "id": "5dfa4bc3",
   "metadata": {},
   "source": [
    "## 5. Write a Python Program to Find Armstrong Number in an Interval?"
   ]
  },
  {
   "cell_type": "code",
   "execution_count": 13,
   "id": "a1757c3e",
   "metadata": {},
   "outputs": [
    {
     "name": "stdout",
     "output_type": "stream",
     "text": [
      "Enter lower limt number: 12\n",
      "Enter upper limt number: 500\n",
      "Armstrong numbers are:  153\n",
      "Armstrong numbers are:  370\n",
      "Armstrong numbers are:  371\n",
      "Armstrong numbers are:  407\n"
     ]
    }
   ],
   "source": [
    "lower=int(input(\"Enter lower limt number: \"))\n",
    "upper=int(input(\"Enter upper limt number: \"))\n",
    "for i in range(lower,upper+1):\n",
    "    pow=len(str(i))\n",
    "    sum = 0\n",
    "    temp = i\n",
    "    while temp > 0:\n",
    "        digit = temp % 10\n",
    "        sum += digit ** pow\n",
    "        temp //= 10\n",
    "    if(i==sum):\n",
    "        print(\"Armstrong numbers are: \",i)"
   ]
  },
  {
   "cell_type": "markdown",
   "id": "9d24357f",
   "metadata": {},
   "source": [
    "## 6. Write a Python Program to Find the Sum of Natural Numbers?"
   ]
  },
  {
   "cell_type": "code",
   "execution_count": 14,
   "id": "5a06738b",
   "metadata": {},
   "outputs": [
    {
     "name": "stdout",
     "output_type": "stream",
     "text": [
      "10\n",
      "Sum of Natural Numbers is:  55.0\n"
     ]
    }
   ],
   "source": [
    "n=int(input())\n",
    "if(num>0):\n",
    "    sum=(n*(n+1))/2\n",
    "    print(\"Sum of Natural Numbers is: \",sum)\n",
    "else:\n",
    "    print(\"Enter a valid Number\")"
   ]
  },
  {
   "cell_type": "code",
   "execution_count": null,
   "id": "6053d736",
   "metadata": {},
   "outputs": [],
   "source": []
  }
 ],
 "metadata": {
  "kernelspec": {
   "display_name": "Python 3 (ipykernel)",
   "language": "python",
   "name": "python3"
  },
  "language_info": {
   "codemirror_mode": {
    "name": "ipython",
    "version": 3
   },
   "file_extension": ".py",
   "mimetype": "text/x-python",
   "name": "python",
   "nbconvert_exporter": "python",
   "pygments_lexer": "ipython3",
   "version": "3.9.13"
  }
 },
 "nbformat": 4,
 "nbformat_minor": 5
}
