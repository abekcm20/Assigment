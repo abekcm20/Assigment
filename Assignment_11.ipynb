{
 "cells": [
  {
   "cell_type": "markdown",
   "id": "17f14b02",
   "metadata": {},
   "source": [
    "## 1. Create an assert statement that throws an AssertionError if the variable spam is a negative integer."
   ]
  },
  {
   "cell_type": "code",
   "execution_count": 1,
   "id": "360e8993",
   "metadata": {},
   "outputs": [
    {
     "ename": "AssertionError",
     "evalue": "",
     "output_type": "error",
     "traceback": [
      "\u001b[1;31m---------------------------------------------------------------------------\u001b[0m",
      "\u001b[1;31mAssertionError\u001b[0m                            Traceback (most recent call last)",
      "\u001b[1;32m~\\AppData\\Local\\Temp\\ipykernel_9588\\3498234307.py\u001b[0m in \u001b[0;36m<module>\u001b[1;34m\u001b[0m\n\u001b[0;32m      1\u001b[0m \u001b[0mspam\u001b[0m \u001b[1;33m=\u001b[0m \u001b[1;33m-\u001b[0m\u001b[1;36m12\u001b[0m\u001b[1;33m\u001b[0m\u001b[1;33m\u001b[0m\u001b[0m\n\u001b[1;32m----> 2\u001b[1;33m \u001b[1;32massert\u001b[0m \u001b[0mspam\u001b[0m \u001b[1;33m>=\u001b[0m \u001b[1;36m0\u001b[0m\u001b[1;33m\u001b[0m\u001b[1;33m\u001b[0m\u001b[0m\n\u001b[0m",
      "\u001b[1;31mAssertionError\u001b[0m: "
     ]
    }
   ],
   "source": [
    "spam = -12\n",
    "assert spam >= 0"
   ]
  },
  {
   "cell_type": "markdown",
   "id": "fc3da908",
   "metadata": {},
   "source": [
    "## 2. Write an assert statement that triggers an AssertionError if the variables eggs and bacon contain strings that are the same as each other, even if their cases are different (that is, &#39;hello&#39; and &#39;hello&#39; are considered the same, and &#39;goodbye&#39; and &#39;GOODbye&#39; are also considered the same)."
   ]
  },
  {
   "cell_type": "code",
   "execution_count": 2,
   "id": "4fece7b0",
   "metadata": {},
   "outputs": [
    {
     "ename": "AssertionError",
     "evalue": "",
     "output_type": "error",
     "traceback": [
      "\u001b[1;31m---------------------------------------------------------------------------\u001b[0m",
      "\u001b[1;31mAssertionError\u001b[0m                            Traceback (most recent call last)",
      "\u001b[1;32m~\\AppData\\Local\\Temp\\ipykernel_9588\\1338902118.py\u001b[0m in \u001b[0;36m<module>\u001b[1;34m\u001b[0m\n\u001b[0;32m      3\u001b[0m     \u001b[0mbacon\u001b[0m \u001b[1;33m=\u001b[0m \u001b[0mbacon\u001b[0m\u001b[1;33m.\u001b[0m\u001b[0mupper\u001b[0m\u001b[1;33m(\u001b[0m\u001b[1;33m)\u001b[0m\u001b[1;33m\u001b[0m\u001b[1;33m\u001b[0m\u001b[0m\n\u001b[0;32m      4\u001b[0m     \u001b[1;32massert\u001b[0m \u001b[1;32mnot\u001b[0m\u001b[1;33m(\u001b[0m\u001b[0megg\u001b[0m \u001b[1;33m==\u001b[0m \u001b[0mbacon\u001b[0m\u001b[1;33m)\u001b[0m\u001b[1;33m\u001b[0m\u001b[1;33m\u001b[0m\u001b[0m\n\u001b[1;32m----> 5\u001b[1;33m \u001b[0mraise_assert\u001b[0m\u001b[1;33m(\u001b[0m\u001b[1;34m'goodbye'\u001b[0m\u001b[1;33m,\u001b[0m\u001b[1;34m'GOODbye'\u001b[0m\u001b[1;33m)\u001b[0m\u001b[1;33m\u001b[0m\u001b[1;33m\u001b[0m\u001b[0m\n\u001b[0m",
      "\u001b[1;32m~\\AppData\\Local\\Temp\\ipykernel_9588\\1338902118.py\u001b[0m in \u001b[0;36mraise_assert\u001b[1;34m(egg, bacon)\u001b[0m\n\u001b[0;32m      2\u001b[0m     \u001b[0megg\u001b[0m \u001b[1;33m=\u001b[0m \u001b[0megg\u001b[0m\u001b[1;33m.\u001b[0m\u001b[0mupper\u001b[0m\u001b[1;33m(\u001b[0m\u001b[1;33m)\u001b[0m\u001b[1;33m\u001b[0m\u001b[1;33m\u001b[0m\u001b[0m\n\u001b[0;32m      3\u001b[0m     \u001b[0mbacon\u001b[0m \u001b[1;33m=\u001b[0m \u001b[0mbacon\u001b[0m\u001b[1;33m.\u001b[0m\u001b[0mupper\u001b[0m\u001b[1;33m(\u001b[0m\u001b[1;33m)\u001b[0m\u001b[1;33m\u001b[0m\u001b[1;33m\u001b[0m\u001b[0m\n\u001b[1;32m----> 4\u001b[1;33m     \u001b[1;32massert\u001b[0m \u001b[1;32mnot\u001b[0m\u001b[1;33m(\u001b[0m\u001b[0megg\u001b[0m \u001b[1;33m==\u001b[0m \u001b[0mbacon\u001b[0m\u001b[1;33m)\u001b[0m\u001b[1;33m\u001b[0m\u001b[1;33m\u001b[0m\u001b[0m\n\u001b[0m\u001b[0;32m      5\u001b[0m \u001b[0mraise_assert\u001b[0m\u001b[1;33m(\u001b[0m\u001b[1;34m'goodbye'\u001b[0m\u001b[1;33m,\u001b[0m\u001b[1;34m'GOODbye'\u001b[0m\u001b[1;33m)\u001b[0m\u001b[1;33m\u001b[0m\u001b[1;33m\u001b[0m\u001b[0m\n",
      "\u001b[1;31mAssertionError\u001b[0m: "
     ]
    }
   ],
   "source": [
    "def raise_assert(egg,bacon):\n",
    "    egg = egg.upper()\n",
    "    bacon = bacon.upper()\n",
    "    assert not(egg == bacon)\n",
    "raise_assert('goodbye','GOODbye')"
   ]
  },
  {
   "cell_type": "markdown",
   "id": "94477926",
   "metadata": {},
   "source": [
    "## 3. Create an assert statement that throws an AssertionError every time."
   ]
  },
  {
   "cell_type": "code",
   "execution_count": 3,
   "id": "d9b5aed5",
   "metadata": {},
   "outputs": [
    {
     "ename": "AssertionError",
     "evalue": "",
     "output_type": "error",
     "traceback": [
      "\u001b[1;31m---------------------------------------------------------------------------\u001b[0m",
      "\u001b[1;31mAssertionError\u001b[0m                            Traceback (most recent call last)",
      "\u001b[1;32m~\\AppData\\Local\\Temp\\ipykernel_9588\\3601879406.py\u001b[0m in \u001b[0;36m<module>\u001b[1;34m\u001b[0m\n\u001b[0;32m      1\u001b[0m \u001b[1;32mdef\u001b[0m \u001b[0massert_always\u001b[0m\u001b[1;33m(\u001b[0m\u001b[1;33m)\u001b[0m\u001b[1;33m:\u001b[0m\u001b[1;33m\u001b[0m\u001b[1;33m\u001b[0m\u001b[0m\n\u001b[0;32m      2\u001b[0m     \u001b[1;32massert\u001b[0m \u001b[1;32mFalse\u001b[0m\u001b[1;33m\u001b[0m\u001b[1;33m\u001b[0m\u001b[0m\n\u001b[1;32m----> 3\u001b[1;33m \u001b[0massert_always\u001b[0m\u001b[1;33m(\u001b[0m\u001b[1;33m)\u001b[0m\u001b[1;33m\u001b[0m\u001b[1;33m\u001b[0m\u001b[0m\n\u001b[0m",
      "\u001b[1;32m~\\AppData\\Local\\Temp\\ipykernel_9588\\3601879406.py\u001b[0m in \u001b[0;36massert_always\u001b[1;34m()\u001b[0m\n\u001b[0;32m      1\u001b[0m \u001b[1;32mdef\u001b[0m \u001b[0massert_always\u001b[0m\u001b[1;33m(\u001b[0m\u001b[1;33m)\u001b[0m\u001b[1;33m:\u001b[0m\u001b[1;33m\u001b[0m\u001b[1;33m\u001b[0m\u001b[0m\n\u001b[1;32m----> 2\u001b[1;33m     \u001b[1;32massert\u001b[0m \u001b[1;32mFalse\u001b[0m\u001b[1;33m\u001b[0m\u001b[1;33m\u001b[0m\u001b[0m\n\u001b[0m\u001b[0;32m      3\u001b[0m \u001b[0massert_always\u001b[0m\u001b[1;33m(\u001b[0m\u001b[1;33m)\u001b[0m\u001b[1;33m\u001b[0m\u001b[1;33m\u001b[0m\u001b[0m\n",
      "\u001b[1;31mAssertionError\u001b[0m: "
     ]
    }
   ],
   "source": [
    "def assert_always():\n",
    "    assert False\n",
    "assert_always()"
   ]
  },
  {
   "cell_type": "markdown",
   "id": "b599f6b8",
   "metadata": {},
   "source": [
    "## 4. What are the two lines that must be present in your software in order to call logging.debug()?"
   ]
  },
  {
   "cell_type": "code",
   "execution_count": 3,
   "id": "e1f4073b",
   "metadata": {},
   "outputs": [],
   "source": [
    "import logging\n",
    "logging.basicConfig(filename = 'programLog.txt',level=logging.DEBUG, format=' %(asctime)s - %(levelname)s - %(message)s')\n"
   ]
  },
  {
   "cell_type": "markdown",
   "id": "ab8f055f",
   "metadata": {},
   "source": [
    "## 5. What are the two lines that your program must have in order to have logging.debug() send a logging message to a file named programLog.txt?"
   ]
  },
  {
   "cell_type": "code",
   "execution_count": 4,
   "id": "131ac48d",
   "metadata": {},
   "outputs": [],
   "source": [
    "logging.basicConfig(filename = 'programLog.txt',level=logging.DEBUG, format=' %(asctime)s - %(levelname)s - %(message)s')\n",
    "logging.debug(\"Data Inserted Successfully\")\n",
    "logging.debug('Connection Closed Successfully')"
   ]
  },
  {
   "cell_type": "code",
   "execution_count": 5,
   "id": "1de76f41",
   "metadata": {},
   "outputs": [
    {
     "name": "stdout",
     "output_type": "stream",
     "text": [
      " 2023-05-09 09:32:36,406 - DEBUG - Data Inserted Successfully\n",
      "\n",
      " 2023-05-09 09:32:36,406 - DEBUG - Connection Closed Successfully\n",
      "\n"
     ]
    }
   ],
   "source": [
    "file = open(\"./programLog.txt\",\"r\")\n",
    "for record in file.readlines():\n",
    "    print(record)"
   ]
  },
  {
   "cell_type": "markdown",
   "id": "3378056c",
   "metadata": {},
   "source": [
    "## 6. What are the five levels of logging?"
   ]
  },
  {
   "cell_type": "markdown",
   "id": "93af8a45",
   "metadata": {},
   "source": [
    "CRITICAL(50), ERROR(40), WARNING(30), INFO(20, DEBUG(10), NOTSET(0)"
   ]
  },
  {
   "cell_type": "markdown",
   "id": "f3d457eb",
   "metadata": {},
   "source": [
    "## 7. What line of code would you add to your software to disable all logging messages?"
   ]
  },
  {
   "cell_type": "markdown",
   "id": "43523c1d",
   "metadata": {},
   "source": [
    "logging.disable = True"
   ]
  },
  {
   "cell_type": "markdown",
   "id": "0fac20fa",
   "metadata": {},
   "source": [
    "## 8.Why is using logging messages better than using print() to display the same message?"
   ]
  },
  {
   "cell_type": "markdown",
   "id": "b64a0a81",
   "metadata": {},
   "source": [
    "print is used when you want to display any message and logging is used to record all events like error, info, debug messages, timestamp"
   ]
  },
  {
   "cell_type": "markdown",
   "id": "975125a5",
   "metadata": {},
   "source": [
    "## 9. What are the differences between the Step Over, Step In, and Step Out buttons in the debugger?"
   ]
  },
  {
   "cell_type": "markdown",
   "id": "5ce6d937",
   "metadata": {},
   "source": [
    "##### Step in - The Step In button allows you to step into a function call and execute it line by line, moving through each line of code in the function until it returns control to the calling function.\n",
    "##### Step Over - The Step Over button allows you to execute the current line of code and move to the next line without stepping into any function calls that may be present on the current line\n",
    "##### Step out - Step Out button will cause the debugger to execute lines of code at full speed until it returns from the current function."
   ]
  },
  {
   "cell_type": "markdown",
   "id": "1caf27ae",
   "metadata": {},
   "source": [
    "## 10.After you click Continue, when will the debugger stop ?"
   ]
  },
  {
   "cell_type": "markdown",
   "id": "2e1c11af",
   "metadata": {},
   "source": [
    "it will resume the execution of the program until the next breakpoint"
   ]
  },
  {
   "cell_type": "markdown",
   "id": "35bffa90",
   "metadata": {},
   "source": [
    "## 11. What is the concept of a breakpoint?"
   ]
  },
  {
   "cell_type": "markdown",
   "id": "1ae77a8b",
   "metadata": {},
   "source": [
    "breakpoint is a point in the source code where you want the program execution to pause temporarily so that we can inspect the program and debug any issues"
   ]
  },
  {
   "cell_type": "code",
   "execution_count": null,
   "id": "de5daa0d",
   "metadata": {},
   "outputs": [],
   "source": []
  }
 ],
 "metadata": {
  "kernelspec": {
   "display_name": "Python 3 (ipykernel)",
   "language": "python",
   "name": "python3"
  },
  "language_info": {
   "codemirror_mode": {
    "name": "ipython",
    "version": 3
   },
   "file_extension": ".py",
   "mimetype": "text/x-python",
   "name": "python",
   "nbconvert_exporter": "python",
   "pygments_lexer": "ipython3",
   "version": "3.9.13"
  }
 },
 "nbformat": 4,
 "nbformat_minor": 5
}
