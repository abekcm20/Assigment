{
 "cells": [
  {
   "cell_type": "markdown",
   "id": "7b7a254e",
   "metadata": {},
   "source": [
    "## 1. How do you distinguish between shutil.copy() and shutil.copytree()?"
   ]
  },
  {
   "cell_type": "markdown",
   "id": "1f4bedf8",
   "metadata": {},
   "source": [
    "shutil.copy() method is used to copy the contents of file from one file to another file/folder"
   ]
  },
  {
   "cell_type": "markdown",
   "id": "4b7d1241",
   "metadata": {},
   "source": [
    "shutil.copytree() function is used to copy the entire contents of a folder to other folder"
   ]
  },
  {
   "cell_type": "markdown",
   "id": "43e86b71",
   "metadata": {},
   "source": [
    "## 2. What function is used to rename files??"
   ]
  },
  {
   "cell_type": "markdown",
   "id": "2942e069",
   "metadata": {},
   "source": [
    " os.rename() function is used to rename files or directories"
   ]
  },
  {
   "cell_type": "markdown",
   "id": "07e38629",
   "metadata": {},
   "source": [
    "## 3. What is the difference between the delete functions in the send2trash and shutil modules?"
   ]
  },
  {
   "cell_type": "markdown",
   "id": "1f8a3f77",
   "metadata": {},
   "source": [
    "shutil.rmtree() which deletes a directory and all contents"
   ]
  },
  {
   "cell_type": "markdown",
   "id": "5bbbaaba",
   "metadata": {},
   "source": [
    "send2trash.send2trash() to delete a file/directory"
   ]
  },
  {
   "cell_type": "markdown",
   "id": "129daf58",
   "metadata": {},
   "source": [
    "## 4.ZipFile objects have a close() method just like File objects’ close() method. What ZipFile method is equivalent to File objects’ open() method?"
   ]
  },
  {
   "cell_type": "markdown",
   "id": "d5b2545b",
   "metadata": {},
   "source": [
    "zipfile.ZipFile() to read and write to zipFiles."
   ]
  },
  {
   "cell_type": "markdown",
   "id": "a5b90916",
   "metadata": {},
   "source": [
    "## 5. Create a programme that searches a folder tree for files with a certain file extension (such as .pdf or .jpg). Copy these files from whatever location they are in to a new folder."
   ]
  },
  {
   "cell_type": "code",
   "execution_count": null,
   "id": "7b931001",
   "metadata": {},
   "outputs": [],
   "source": [
    "import os\n",
    "import shutil\n",
    "\n",
    "root_dir = 'Dummy Source'\n",
    "new_dir = 'Dummy Destination'\n",
    "file_extension = \".pdf\"\n",
    "\n",
    "for root, dirs, files in os.walk(root_dir):\n",
    "    for file in files:\n",
    "        if file.endswith(file_extension):\n",
    "            src_path = os.path.join(root, file)\n",
    "            dst_path = os.path.join(new_dir, file)\n",
    "            shutil.copy2(src_path, dst_path)\n"
   ]
  },
  {
   "cell_type": "code",
   "execution_count": 3,
   "id": "352bb4f8",
   "metadata": {},
   "outputs": [],
   "source": []
  },
  {
   "cell_type": "code",
   "execution_count": null,
   "id": "647c6d60",
   "metadata": {},
   "outputs": [],
   "source": []
  }
 ],
 "metadata": {
  "kernelspec": {
   "display_name": "Python 3 (ipykernel)",
   "language": "python",
   "name": "python3"
  },
  "language_info": {
   "codemirror_mode": {
    "name": "ipython",
    "version": 3
   },
   "file_extension": ".py",
   "mimetype": "text/x-python",
   "name": "python",
   "nbconvert_exporter": "python",
   "pygments_lexer": "ipython3",
   "version": "3.9.13"
  }
 },
 "nbformat": 4,
 "nbformat_minor": 5
}
