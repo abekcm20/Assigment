{
 "cells": [
  {
   "cell_type": "markdown",
   "id": "999f8f15",
   "metadata": {},
   "source": [
    "## 1. What does RGBA stand for?"
   ]
  },
  {
   "cell_type": "markdown",
   "id": "6cee7d9f",
   "metadata": {},
   "source": [
    "Red, Green, Blue, and Alpha"
   ]
  },
  {
   "cell_type": "markdown",
   "id": "478eb53f",
   "metadata": {},
   "source": [
    "## 2. From the Pillow module, how do you get the RGBA value of any images?"
   ]
  },
  {
   "cell_type": "markdown",
   "id": "5d69a887",
   "metadata": {},
   "source": [
    "ImageColor.getcolor()"
   ]
  },
  {
   "cell_type": "markdown",
   "id": "c3e2b44d",
   "metadata": {},
   "source": [
    "## 3. What is a box tuple, and how does it work?"
   ]
  },
  {
   "cell_type": "markdown",
   "id": "b3b6bd4e",
   "metadata": {},
   "source": [
    "box tuple is a tuple value of four integers left-edge x-coordinate, the top-edge y-coordinate,the width, and the height, respectively."
   ]
  },
  {
   "cell_type": "markdown",
   "id": "e45fe5ec",
   "metadata": {},
   "source": [
    "## 4. Use your image and load in notebook then, How can you find out the width and height of an Image object?"
   ]
  },
  {
   "cell_type": "code",
   "execution_count": 2,
   "id": "d9108a5b",
   "metadata": {},
   "outputs": [
    {
     "name": "stdout",
     "output_type": "stream",
     "text": [
      "Width, Height -> (800, 533)\n"
     ]
    }
   ],
   "source": [
    "from PIL import Image\n",
    "pic = Image.open('image.jpg')\n",
    "print(f'Width, Height -> {pic.size}')"
   ]
  },
  {
   "cell_type": "markdown",
   "id": "b6954f26",
   "metadata": {},
   "source": [
    "## 5. What method would you call to get Image object for a 100×100 image, excluding the lower-left quarter of it?"
   ]
  },
  {
   "cell_type": "code",
   "execution_count": 6,
   "id": "397926bf",
   "metadata": {},
   "outputs": [
    {
     "name": "stdout",
     "output_type": "stream",
     "text": [
      "Width, Height -> (50, 0)\n"
     ]
    }
   ],
   "source": [
    "from PIL import Image\n",
    "img = Image.open('image.jpg')\n",
    "new_img = img.crop((0,50,50,50))\n",
    "print(f'Width, Height -> {new_img.size}')"
   ]
  },
  {
   "cell_type": "markdown",
   "id": "81b3d209",
   "metadata": {},
   "source": [
    "## 6. After making changes to an Image object, how could you save it as an image file?"
   ]
  },
  {
   "cell_type": "code",
   "execution_count": 7,
   "id": "ec392804",
   "metadata": {},
   "outputs": [],
   "source": [
    "from PIL import Image\n",
    "pic = Image.open('image.jpg')\n",
    "pic.save('iamgecopy.jpg')"
   ]
  },
  {
   "cell_type": "markdown",
   "id": "e31ec744",
   "metadata": {},
   "source": [
    "## 7. What module contains Pillow’s shape-drawing code?"
   ]
  },
  {
   "cell_type": "markdown",
   "id": "a6fdd81a",
   "metadata": {},
   "source": [
    "ImageDraw"
   ]
  },
  {
   "cell_type": "markdown",
   "id": "35e6f1b1",
   "metadata": {},
   "source": [
    "## 8. Image objects do not have drawing methods. What kind of object does? How do you get this kind of object?"
   ]
  },
  {
   "cell_type": "markdown",
   "id": "425bea0e",
   "metadata": {},
   "source": [
    "its have a shape-drawing methods such as point(), line() and rectangle().They are returned by passing the Image object to the ImageDraw.Draw() function"
   ]
  },
  {
   "cell_type": "code",
   "execution_count": null,
   "id": "96dbe5fd",
   "metadata": {},
   "outputs": [],
   "source": []
  }
 ],
 "metadata": {
  "kernelspec": {
   "display_name": "Python 3 (ipykernel)",
   "language": "python",
   "name": "python3"
  },
  "language_info": {
   "codemirror_mode": {
    "name": "ipython",
    "version": 3
   },
   "file_extension": ".py",
   "mimetype": "text/x-python",
   "name": "python",
   "nbconvert_exporter": "python",
   "pygments_lexer": "ipython3",
   "version": "3.9.13"
  }
 },
 "nbformat": 4,
 "nbformat_minor": 5
}
