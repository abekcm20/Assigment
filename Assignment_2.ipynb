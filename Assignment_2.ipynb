{
 "cells": [
  {
   "cell_type": "markdown",
   "id": "e7f34f63",
   "metadata": {},
   "source": [
    "# Assignment_2\n"
   ]
  },
  {
   "cell_type": "markdown",
   "id": "d7a2f2ac",
   "metadata": {},
   "source": [
    "#### 1.What are the two values of the Boolean data type? How do you write them?"
   ]
  },
  {
   "cell_type": "markdown",
   "id": "621a2d2c",
   "metadata": {},
   "source": [
    "True and False"
   ]
  },
  {
   "cell_type": "markdown",
   "id": "65b90e15",
   "metadata": {},
   "source": [
    "#### 2.What are the three different types of Boolean operators?"
   ]
  },
  {
   "cell_type": "markdown",
   "id": "086e57a9",
   "metadata": {},
   "source": [
    "and,or and not"
   ]
  },
  {
   "cell_type": "markdown",
   "id": "93b00960",
   "metadata": {},
   "source": [
    "#### 3. Make a list of each Boolean operator&#39;s truth tables (i.e. every possible combination of Boolean\n",
    "#### values for the operator and what it evaluate )."
   ]
  },
  {
   "cell_type": "markdown",
   "id": "4eac896e",
   "metadata": {},
   "source": [
    "A&B        Bitwise AND\n"
   ]
  },
  {
   "cell_type": "markdown",
   "id": "67d6ffd7",
   "metadata": {},
   "source": [
    "A|B   Bitwise OR"
   ]
  },
  {
   "cell_type": "markdown",
   "id": "9358cb4f",
   "metadata": {},
   "source": [
    "A^B Bitwise XOR"
   ]
  },
  {
   "cell_type": "markdown",
   "id": "346c2c07",
   "metadata": {},
   "source": [
    "~A Bitwise NOT"
   ]
  },
  {
   "cell_type": "markdown",
   "id": "4bcf6188",
   "metadata": {},
   "source": [
    "#### 4.What are the values of the following expressions?"
   ]
  },
  {
   "cell_type": "markdown",
   "id": "80b94db2",
   "metadata": {},
   "source": [
    "(5 > 4) and (3 == 5) output: False\n"
   ]
  },
  {
   "cell_type": "markdown",
   "id": "f2037ff5",
   "metadata": {},
   "source": [
    "not (5 > 4) output: False"
   ]
  },
  {
   "cell_type": "markdown",
   "id": "fb131ac8",
   "metadata": {},
   "source": [
    "(5 > 4) or (3 == 5) output:True"
   ]
  },
  {
   "cell_type": "markdown",
   "id": "bbb51144",
   "metadata": {},
   "source": [
    "not ((5 > 4) or (3 == 5)) output:False"
   ]
  },
  {
   "cell_type": "markdown",
   "id": "a3ae28da",
   "metadata": {},
   "source": [
    "(True and True) and (True == False) output:False"
   ]
  },
  {
   "cell_type": "markdown",
   "id": "bde23f38",
   "metadata": {},
   "source": [
    "(not False) or (not True) output:True"
   ]
  },
  {
   "cell_type": "markdown",
   "id": "3ba978b2",
   "metadata": {},
   "source": [
    "#### 5. What are the six comparison operators?"
   ]
  },
  {
   "cell_type": "markdown",
   "id": "d7205b2a",
   "metadata": {},
   "source": [
    "equal to ==, not equal to !=, greater than > , greater than or equal to >=, less than <, and less than or equal to <="
   ]
  },
  {
   "cell_type": "markdown",
   "id": "cc6df911",
   "metadata": {},
   "source": [
    "#### 6. How do you tell the difference between the equal to and assignment operators?Describe a condition and when you would use one."
   ]
  },
  {
   "cell_type": "markdown",
   "id": "b384cf52",
   "metadata": {},
   "source": [
    "equal to assign the same value to veriable , but assignment operators assing the value after the operation \n"
   ]
  },
  {
   "cell_type": "code",
   "execution_count": 11,
   "id": "f971aac2",
   "metadata": {},
   "outputs": [],
   "source": [
    "A = 10 #Equal "
   ]
  },
  {
   "cell_type": "code",
   "execution_count": 12,
   "id": "65695f0a",
   "metadata": {},
   "outputs": [],
   "source": [
    "A += 1 #assignment operators "
   ]
  },
  {
   "cell_type": "markdown",
   "id": "05cee508",
   "metadata": {},
   "source": [
    "#### 7.Identify the three blocks in this code:\n"
   ]
  },
  {
   "cell_type": "code",
   "execution_count": null,
   "id": "6ff6a563",
   "metadata": {},
   "outputs": [],
   "source": [
    "spam = 0\n",
    "if spam == 10:\n",
    "    print('eggs')\n",
    "if spam > 5:\n",
    "    print('bacon')\n",
    "else:\n",
    "    print('ham')\n",
    "    print('spam')\n",
    "    print('spam')"
   ]
  },
  {
   "cell_type": "markdown",
   "id": "fcec5e9a",
   "metadata": {},
   "source": [
    "ham\n",
    "spam\n",
    "spam"
   ]
  },
  {
   "cell_type": "markdown",
   "id": "1d2fb745",
   "metadata": {},
   "source": [
    "#### 8. Write code that prints Hello if 1 is stored in spam, prints Howdy if 2 is stored in spam, and prints Greetings! if anything else is stored in spam."
   ]
  },
  {
   "cell_type": "code",
   "execution_count": 16,
   "id": "18a61f31",
   "metadata": {},
   "outputs": [
    {
     "name": "stdout",
     "output_type": "stream",
     "text": [
      "1\n",
      "Hello\n"
     ]
    }
   ],
   "source": [
    "spam = int(input())\n",
    "if spam == 1:\n",
    "    print('Hello')\n",
    "elif spam == 2:\n",
    "    print('Howdy')\n",
    "else:\n",
    "    print('Greetings!')"
   ]
  },
  {
   "cell_type": "markdown",
   "id": "2c9b391d",
   "metadata": {},
   "source": [
    "#### 9.If your programme is stuck in an endless loop, what keys you’ll press?"
   ]
  },
  {
   "cell_type": "markdown",
   "id": "458fdaa4",
   "metadata": {},
   "source": [
    "CTRL + C"
   ]
  },
  {
   "cell_type": "markdown",
   "id": "d5cea27d",
   "metadata": {},
   "source": [
    "#### 10. How can you tell the difference between break and continue?"
   ]
  },
  {
   "cell_type": "markdown",
   "id": "4ae8d2d9",
   "metadata": {},
   "source": [
    "Break is used to terminate the current loop"
   ]
  },
  {
   "cell_type": "markdown",
   "id": "ec4222b5",
   "metadata": {},
   "source": [
    "continue is used to skip the current iteration"
   ]
  },
  {
   "cell_type": "markdown",
   "id": "b0f8541b",
   "metadata": {},
   "source": [
    "#### 11. In a for loop, what is the difference between range(10), range(0, 10), and range(0, 10, 1)?"
   ]
  },
  {
   "cell_type": "markdown",
   "id": "9b87441a",
   "metadata": {},
   "source": [
    "range(10) iteration the loop for 0 to 9,in this its start from 0"
   ]
  },
  {
   "cell_type": "markdown",
   "id": "0d27c5ff",
   "metadata": {},
   "source": [
    "range(0,10) iteration the loop for 0 to 9,in this its start from 0, but we can change the starting point and ending point"
   ]
  },
  {
   "cell_type": "markdown",
   "id": "ca214b37",
   "metadata": {},
   "source": [
    "range(0,10,1) iteration the loop for 0 to 9,in this its start from 0, but we can change the starting point and ending point,also we can give spet"
   ]
  },
  {
   "cell_type": "markdown",
   "id": "5a24b7d9",
   "metadata": {},
   "source": [
    "#### 12. Write a short program that prints the numbers 1 to 10 using a for loop. Then write an equivalent program that prints the numbers 1 to 10 using a while loop."
   ]
  },
  {
   "cell_type": "code",
   "execution_count": 20,
   "id": "1f4e643e",
   "metadata": {},
   "outputs": [],
   "source": [
    "Rangenum = 10"
   ]
  },
  {
   "cell_type": "code",
   "execution_count": 22,
   "id": "54c13adb",
   "metadata": {},
   "outputs": [
    {
     "name": "stdout",
     "output_type": "stream",
     "text": [
      "1\n",
      "2\n",
      "3\n",
      "4\n",
      "5\n",
      "6\n",
      "7\n",
      "8\n",
      "9\n",
      "10\n"
     ]
    }
   ],
   "source": [
    "for i in range(1,Rangenum+1):\n",
    "    print(i)"
   ]
  },
  {
   "cell_type": "code",
   "execution_count": 24,
   "id": "a15924e2",
   "metadata": {},
   "outputs": [
    {
     "name": "stdout",
     "output_type": "stream",
     "text": [
      "1\n",
      "2\n",
      "3\n",
      "4\n",
      "5\n",
      "6\n",
      "7\n",
      "8\n",
      "9\n",
      "10\n"
     ]
    }
   ],
   "source": [
    "count = 1\n",
    "while count < Rangenum+1:\n",
    "    print(count)\n",
    "    count += 1"
   ]
  },
  {
   "cell_type": "markdown",
   "id": "a0bd2157",
   "metadata": {},
   "source": [
    "#### 13. If you had a function named bacon() inside a module named spam, how would you call it after importing spam?"
   ]
  },
  {
   "cell_type": "markdown",
   "id": "e3d2082e",
   "metadata": {},
   "source": [
    "spam.bacon()"
   ]
  },
  {
   "cell_type": "code",
   "execution_count": null,
   "id": "8c2bc402",
   "metadata": {},
   "outputs": [],
   "source": []
  }
 ],
 "metadata": {
  "kernelspec": {
   "display_name": "Python 3 (ipykernel)",
   "language": "python",
   "name": "python3"
  },
  "language_info": {
   "codemirror_mode": {
    "name": "ipython",
    "version": 3
   },
   "file_extension": ".py",
   "mimetype": "text/x-python",
   "name": "python",
   "nbconvert_exporter": "python",
   "pygments_lexer": "ipython3",
   "version": "3.9.12"
  }
 },
 "nbformat": 4,
 "nbformat_minor": 5
}
