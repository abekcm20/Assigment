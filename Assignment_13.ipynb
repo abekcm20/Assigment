{
 "cells": [
  {
   "cell_type": "markdown",
   "id": "83a183dc",
   "metadata": {},
   "source": [
    "## 1. What advantages do Excel spreadsheets have over CSV spreadsheets?"
   ]
  },
  {
   "cell_type": "markdown",
   "id": "2efda7a7",
   "metadata": {},
   "source": [
    "CSV files are plain-text files, Does not contain formatting, formulas, macros <br>\n",
    "Excel spreadsheets allow for more complex formatting than CSV spreadsheets. This includes the ability to change fonts, colors, and cell alignment. <br>\n",
    "Excel spreadsheets can perform calculations on data, such as sums, averages, and counts. CSV spreadsheets cannot perform calculations.\n"
   ]
  },
  {
   "cell_type": "markdown",
   "id": "179ee3f6",
   "metadata": {},
   "source": [
    "## 2.What do you pass to csv.reader() and csv.writer() to create reader and writer objects?"
   ]
  },
  {
   "cell_type": "code",
   "execution_count": 1,
   "id": "26ceafdb",
   "metadata": {},
   "outputs": [
    {
     "name": "stdout",
     "output_type": "stream",
     "text": [
      "['John', 'Doe', '120 jefferson st.', 'Riverside', ' NJ', ' 08075']\n",
      "['Jack', 'McGinnis', '220 hobo Av.', 'Phila', ' PA', '09119']\n",
      "['John \"Da Man\"', 'Repici', '120 Jefferson St.', 'Riverside', ' NJ', '08075']\n",
      "['Stephen', 'Tyler', '7452 Terrace \"At the Plaza\" road', 'SomeTown', 'SD', ' 91234']\n",
      "['', 'Blankman', '', 'SomeTown', ' SD', ' 00298']\n",
      "['Joan \"the bone\", Anne', 'Jet', '9th, at Terrace plc', 'Desert City', 'CO', '00123']\n"
     ]
    }
   ],
   "source": [
    "import csv\n",
    "with open('addresses.csv','r') as file:\n",
    "    csv_file = csv.reader(file,delimiter=',')\n",
    "    for ele in csv_file:\n",
    "        print(ele)"
   ]
  },
  {
   "cell_type": "markdown",
   "id": "92f7299f",
   "metadata": {},
   "source": [
    "## 3. What modes do File objects for reader and writer objects need to be opened in?"
   ]
  },
  {
   "cell_type": "markdown",
   "id": "5012dfb8",
   "metadata": {},
   "source": [
    "read mode='r' <br>\n",
    "write mode='w'"
   ]
  },
  {
   "cell_type": "markdown",
   "id": "e858a0ab",
   "metadata": {},
   "source": [
    "## 4. What method takes a list argument and writes it to a CSV file?"
   ]
  },
  {
   "cell_type": "code",
   "execution_count": 3,
   "id": "09548af9",
   "metadata": {},
   "outputs": [],
   "source": [
    "import csv      \n",
    "fields = ['Name', 'City', 'exp', 'company']  \n",
    "rows = [ \n",
    "            ['Abhi', 'Bengalore', '2', 'xyz'],\n",
    "            ['John', 'Channai', '1', 'abc'], \n",
    "            ['Jack', 'Mysore', '2' 'abc']\n",
    "       ] \n",
    "with open(\"sample_data.csv\", 'w') as csvfile: \n",
    "    csvwriter = csv.writer(csvfile)\n",
    "    csvwriter.writerow(fields) \n",
    "    csvwriter.writerows(rows)"
   ]
  },
  {
   "cell_type": "code",
   "execution_count": 6,
   "id": "18d13d31",
   "metadata": {},
   "outputs": [
    {
     "name": "stdout",
     "output_type": "stream",
     "text": [
      "['Name', 'City', 'exp', 'company']\n",
      "[]\n",
      "['Abhi', 'Bengalore', '2', 'xyz']\n",
      "[]\n",
      "['John', 'Channai', '1', 'abc']\n",
      "[]\n",
      "['Jack', 'Mysore', '2abc']\n",
      "[]\n"
     ]
    }
   ],
   "source": [
    "import csv\n",
    "with open('sample_data.csv','r') as file:\n",
    "    csv_file = csv.reader(file,delimiter=',')\n",
    "    for ele in csv_file:\n",
    "        print(ele)"
   ]
  },
  {
   "cell_type": "markdown",
   "id": "ea757e5a",
   "metadata": {},
   "source": [
    "## 5. What do the keyword arguments delimiter and line terminator do?"
   ]
  },
  {
   "cell_type": "markdown",
   "id": "4f299045",
   "metadata": {},
   "source": [
    "',' is Delimiter. We can use any Character intead ','"
   ]
  },
  {
   "cell_type": "markdown",
   "id": "2f1063bc",
   "metadata": {},
   "source": [
    "## 6. What function takes a string of JSON data and returns a Python data structure?"
   ]
  },
  {
   "cell_type": "markdown",
   "id": "8d37ab54",
   "metadata": {},
   "source": [
    "loads() "
   ]
  },
  {
   "cell_type": "markdown",
   "id": "8060eab5",
   "metadata": {},
   "source": [
    "## 7. What function takes a Python data structure and returns a string of JSON data?"
   ]
  },
  {
   "cell_type": "code",
   "execution_count": 10,
   "id": "6da4902e",
   "metadata": {},
   "outputs": [
    {
     "name": "stdout",
     "output_type": "stream",
     "text": [
      "{'name': 'John'}\n",
      "{\n",
      "    \"name\": \"John\"\n",
      "}\n"
     ]
    }
   ],
   "source": [
    "import json\n",
    "data = {\"name\":\"John\"}\n",
    "print(data)\n",
    "jsondata = json.dumps(data, indent=4, sort_keys=True)\n",
    "print(jsondata)"
   ]
  },
  {
   "cell_type": "code",
   "execution_count": null,
   "id": "0a2e4f0e",
   "metadata": {},
   "outputs": [],
   "source": []
  }
 ],
 "metadata": {
  "kernelspec": {
   "display_name": "Python 3 (ipykernel)",
   "language": "python",
   "name": "python3"
  },
  "language_info": {
   "codemirror_mode": {
    "name": "ipython",
    "version": 3
   },
   "file_extension": ".py",
   "mimetype": "text/x-python",
   "name": "python",
   "nbconvert_exporter": "python",
   "pygments_lexer": "ipython3",
   "version": "3.9.13"
  }
 },
 "nbformat": 4,
 "nbformat_minor": 5
}
