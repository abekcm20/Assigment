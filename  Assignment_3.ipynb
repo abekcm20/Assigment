{
 "cells": [
  {
   "cell_type": "markdown",
   "id": "36b21f3e",
   "metadata": {},
   "source": [
    "## 1. Why are functions advantageous to have in your programs?"
   ]
  },
  {
   "cell_type": "markdown",
   "id": "4a1e15c3",
   "metadata": {},
   "source": [
    "if we doin a same task again and again instade of write multiple type same code, we can write a function and we can call that function when its required.\n",
    "its reduce the program length,\n",
    "Reusability"
   ]
  },
  {
   "cell_type": "markdown",
   "id": "14afbb3a",
   "metadata": {},
   "source": [
    "## 2. When does the code in a function run: when it&#39;s specified or when it&#39;s called?"
   ]
  },
  {
   "cell_type": "markdown",
   "id": "9fdae33c",
   "metadata": {},
   "source": [
    "when its called"
   ]
  },
  {
   "cell_type": "markdown",
   "id": "c82c0ab9",
   "metadata": {},
   "source": [
    "## 3. What statement creates a function?"
   ]
  },
  {
   "cell_type": "markdown",
   "id": "196c390f",
   "metadata": {},
   "source": [
    "Def"
   ]
  },
  {
   "cell_type": "code",
   "execution_count": 5,
   "id": "ca5738af",
   "metadata": {},
   "outputs": [
    {
     "name": "stdout",
     "output_type": "stream",
     "text": [
      "hello\n"
     ]
    }
   ],
   "source": [
    "def fun():\n",
    "    print('hello')\n",
    "    return \n",
    "fun()"
   ]
  },
  {
   "cell_type": "markdown",
   "id": "9726b94e",
   "metadata": {},
   "source": [
    "## 4. What is the difference between a function and a function call?"
   ]
  },
  {
   "cell_type": "markdown",
   "id": "86b58146",
   "metadata": {},
   "source": [
    "function is producer used to create task, function call used for calling function"
   ]
  },
  {
   "cell_type": "markdown",
   "id": "8f42e77c",
   "metadata": {},
   "source": [
    "## 5. How many global scopes are there in a Python program? How many local scopes?"
   ]
  },
  {
   "cell_type": "markdown",
   "id": "f63133db",
   "metadata": {},
   "source": [
    "one global scop, local scope is created when function is called"
   ]
  },
  {
   "cell_type": "markdown",
   "id": "bbac2130",
   "metadata": {},
   "source": [
    "## 6. What happens to variables in a local scope when the function call returns?\n"
   ]
  },
  {
   "cell_type": "markdown",
   "id": "2c7e671e",
   "metadata": {},
   "source": [
    "destroyed"
   ]
  },
  {
   "cell_type": "markdown",
   "id": "f4b0cb69",
   "metadata": {},
   "source": [
    "## 7. What is the concept of a return value? Is it possible to have a return value in an expression?"
   ]
  },
  {
   "cell_type": "markdown",
   "id": "322234f8",
   "metadata": {},
   "source": [
    "its any value, yes return value can be used as part of ecpression"
   ]
  },
  {
   "cell_type": "markdown",
   "id": "6be31126",
   "metadata": {},
   "source": [
    "## 8. If a function does not have a return statement, what is the return value of a call to that function?\n"
   ]
  },
  {
   "cell_type": "markdown",
   "id": "9060b4c3",
   "metadata": {},
   "source": [
    "None"
   ]
  },
  {
   "cell_type": "markdown",
   "id": "7b84423f",
   "metadata": {},
   "source": [
    "## 9. How do you make a function variable refer to the global variable?"
   ]
  },
  {
   "cell_type": "markdown",
   "id": "455293dc",
   "metadata": {},
   "source": [
    "we can use global keyword"
   ]
  },
  {
   "cell_type": "markdown",
   "id": "de3cb7b6",
   "metadata": {},
   "source": [
    "## 10. What is the data type of None?\n"
   ]
  },
  {
   "cell_type": "markdown",
   "id": "0e6123b5",
   "metadata": {},
   "source": [
    "NoneType"
   ]
  },
  {
   "cell_type": "markdown",
   "id": "945eee9c",
   "metadata": {},
   "source": [
    "## 11. What does the sentence import areallyourpetsnamederic do?"
   ]
  },
  {
   "cell_type": "markdown",
   "id": "f7ef5fc4",
   "metadata": {},
   "source": [
    "improt statement imports madule named areallyourpetsnamederic"
   ]
  },
  {
   "cell_type": "markdown",
   "id": "3ca03eda",
   "metadata": {},
   "source": [
    "## 12. If you had a bacon() feature in a spam module, what would you call it after importing spam?"
   ]
  },
  {
   "cell_type": "markdown",
   "id": "01f75f77",
   "metadata": {},
   "source": [
    "spam.bacon()"
   ]
  },
  {
   "cell_type": "markdown",
   "id": "7bdc05cc",
   "metadata": {},
   "source": [
    "## 13. What can you do to save a programme from crashing if it encounters an error?"
   ]
  },
  {
   "cell_type": "markdown",
   "id": "2826e0d8",
   "metadata": {},
   "source": [
    "we can use Exception Handling (try) in that the case"
   ]
  },
  {
   "cell_type": "markdown",
   "id": "d1dd233d",
   "metadata": {},
   "source": [
    "## 14. What is the purpose of the try clause? What is the purpose of the except clause?"
   ]
  },
  {
   "cell_type": "markdown",
   "id": "9c6431af",
   "metadata": {},
   "source": [
    "the code could cause a error then its goes try claues. if erorr happen then except claues  "
   ]
  },
  {
   "cell_type": "code",
   "execution_count": null,
   "id": "5af910b6",
   "metadata": {},
   "outputs": [],
   "source": []
  }
 ],
 "metadata": {
  "kernelspec": {
   "display_name": "Python 3 (ipykernel)",
   "language": "python",
   "name": "python3"
  },
  "language_info": {
   "codemirror_mode": {
    "name": "ipython",
    "version": 3
   },
   "file_extension": ".py",
   "mimetype": "text/x-python",
   "name": "python",
   "nbconvert_exporter": "python",
   "pygments_lexer": "ipython3",
   "version": "3.9.13"
  }
 },
 "nbformat": 4,
 "nbformat_minor": 5
}
