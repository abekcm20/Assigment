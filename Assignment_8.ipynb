{
 "cells": [
  {
   "cell_type": "markdown",
   "id": "3dbdca7e",
   "metadata": {},
   "source": [
    "## 1. Is the Python Standard Library included with PyInputPlus?"
   ]
  },
  {
   "cell_type": "markdown",
   "id": "c68a143b",
   "metadata": {},
   "source": [
    "no, we need install using !pip install PyInputPlus"
   ]
  },
  {
   "cell_type": "markdown",
   "id": "2f61d2ab",
   "metadata": {},
   "source": [
    "## 2. Why is PyInputPlus commonly imported with import pyinputplus as pypi?"
   ]
  },
  {
   "cell_type": "markdown",
   "id": "9bc19319",
   "metadata": {},
   "source": [
    "that was shorter name, we can use that name while codeing"
   ]
  },
  {
   "cell_type": "markdown",
   "id": "1de04225",
   "metadata": {},
   "source": [
    "## 3. How do you distinguish between inputInt() and inputFloat()?"
   ]
  },
  {
   "cell_type": "markdown",
   "id": "469f8fe7",
   "metadata": {},
   "source": [
    " inputInt() function Accepts an integer value"
   ]
  },
  {
   "cell_type": "markdown",
   "id": "03bad72e",
   "metadata": {},
   "source": [
    "## 4. Using PyInputPlus, how do you ensure that the user enters a whole number between 0 and 99?"
   ]
  },
  {
   "cell_type": "markdown",
   "id": "9e5621ff",
   "metadata": {},
   "source": [
    "using pyinputplus inputint() restrict the input between 0 and 99"
   ]
  },
  {
   "cell_type": "code",
   "execution_count": 5,
   "id": "ca0ffe55",
   "metadata": {},
   "outputs": [
    {
     "name": "stdout",
     "output_type": "stream",
     "text": [
      "Requirement already satisfied: PyInputPlus in c:\\users\\abhis\\anaconda3\\lib\\site-packages (0.2.12)\n",
      "Requirement already satisfied: pysimplevalidate>=0.2.7 in c:\\users\\abhis\\anaconda3\\lib\\site-packages (from PyInputPlus) (0.2.12)\n",
      "Requirement already satisfied: stdiomask>=0.0.3 in c:\\users\\abhis\\anaconda3\\lib\\site-packages (from PyInputPlus) (0.0.6)\n"
     ]
    }
   ],
   "source": [
    "!pip install PyInputPlus\n"
   ]
  },
  {
   "cell_type": "code",
   "execution_count": null,
   "id": "1607b46d",
   "metadata": {},
   "outputs": [
    {
     "name": "stdout",
     "output_type": "stream",
     "text": [
      "Enter a number: 947\n",
      "Number must be at maximum 100.\n",
      "Enter a number: "
     ]
    }
   ],
   "source": [
    "import pyinputplus as pyip\n",
    "number = pyip.inputInt(prompt='Enter a number: ', min=0, max=100)\n",
    "print(number)"
   ]
  },
  {
   "cell_type": "markdown",
   "id": "e5269f54",
   "metadata": {},
   "source": [
    "## 5. What is transferred to the keyword arguments allowRegexes and blockRegexes?"
   ]
  },
  {
   "cell_type": "markdown",
   "id": "8537ba28",
   "metadata": {},
   "source": [
    "using allowRegexes and blockRegexes keyword arguments to take list of regular expression . using this we can restrict the input"
   ]
  },
  {
   "cell_type": "markdown",
   "id": "e89b7343",
   "metadata": {},
   "source": [
    "## 6. If a blank input is entered three times, what does inputStr(limit=3) do?"
   ]
  },
  {
   "cell_type": "markdown",
   "id": "95744564",
   "metadata": {},
   "source": [
    "The statement inputStr(limit=3) is throw the exceptions are ValidationException and RetryLimitException."
   ]
  },
  {
   "cell_type": "markdown",
   "id": "4626f7a4",
   "metadata": {},
   "source": [
    "## 7. If blank input is entered three times, what does inputStr(limit=3, default=&#39;hello&#39;) do?"
   ]
  },
  {
   "cell_type": "markdown",
   "id": "e7f08fce",
   "metadata": {},
   "source": [
    "The parameter is set to hello.if input entered tree time instead throw a exceptions, it will return hello"
   ]
  },
  {
   "cell_type": "code",
   "execution_count": null,
   "id": "15f9ce2f",
   "metadata": {},
   "outputs": [],
   "source": []
  }
 ],
 "metadata": {
  "kernelspec": {
   "display_name": "Python 3 (ipykernel)",
   "language": "python",
   "name": "python3"
  },
  "language_info": {
   "codemirror_mode": {
    "name": "ipython",
    "version": 3
   },
   "file_extension": ".py",
   "mimetype": "text/x-python",
   "name": "python",
   "nbconvert_exporter": "python",
   "pygments_lexer": "ipython3",
   "version": "3.9.13"
  }
 },
 "nbformat": 4,
 "nbformat_minor": 5
}
