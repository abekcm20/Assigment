{
 "cells": [
  {
   "cell_type": "markdown",
   "id": "c4f861dc",
   "metadata": {},
   "source": [
    "#### 1. What are escape characters, and how do you use them?"
   ]
  },
  {
   "cell_type": "markdown",
   "id": "6401f06e",
   "metadata": {},
   "source": [
    "\"\\\" is a escape character.used to add white spaces or new line. \\t is tab, \\n new line."
   ]
  },
  {
   "cell_type": "markdown",
   "id": "803262a3",
   "metadata": {},
   "source": [
    "#### 2. What do the escape characters n and t stand for?"
   ]
  },
  {
   "cell_type": "markdown",
   "id": "b1d3ee10",
   "metadata": {},
   "source": [
    "\\t is tab, \\n new line."
   ]
  },
  {
   "cell_type": "markdown",
   "id": "03893bac",
   "metadata": {},
   "source": [
    "#### 3. What is the way to include backslash characters in a string?"
   ]
  },
  {
   "cell_type": "code",
   "execution_count": 1,
   "id": "91eaf8a5",
   "metadata": {},
   "outputs": [
    {
     "name": "stdout",
     "output_type": "stream",
     "text": [
      "\\\n"
     ]
    }
   ],
   "source": [
    "print(\"\\\\\")"
   ]
  },
  {
   "cell_type": "markdown",
   "id": "ab59317e",
   "metadata": {},
   "source": [
    "####  4. The string &quot;Howl&#39;s Moving Castle&quot; is a correct value. Why isn&#39;t the single quote character in the word Howl&#39;s not escaped a problem?"
   ]
  },
  {
   "cell_type": "markdown",
   "id": "8fd4c2bd",
   "metadata": {},
   "source": [
    "The single quote character in world Howl's not escaped because it is used inside double quote."
   ]
  },
  {
   "cell_type": "markdown",
   "id": "fe09716c",
   "metadata": {},
   "source": [
    "#### 5. How do you write a string of newlines if you don&#39;t want to use the n character?"
   ]
  },
  {
   "cell_type": "code",
   "execution_count": 5,
   "id": "863494c2",
   "metadata": {},
   "outputs": [
    {
     "name": "stdout",
     "output_type": "stream",
     "text": [
      "hello \n",
      "hello world\n"
     ]
    }
   ],
   "source": [
    "print(\"hello \\nhello world\")"
   ]
  },
  {
   "cell_type": "markdown",
   "id": "630af22e",
   "metadata": {},
   "source": [
    "#### 6. What are the values of the given expressions?"
   ]
  },
  {
   "cell_type": "code",
   "execution_count": 6,
   "id": "d8673efd",
   "metadata": {},
   "outputs": [
    {
     "data": {
      "text/plain": [
       "'e'"
      ]
     },
     "execution_count": 6,
     "metadata": {},
     "output_type": "execute_result"
    }
   ],
   "source": [
    "'Hello, world!'[1]\n"
   ]
  },
  {
   "cell_type": "code",
   "execution_count": 7,
   "id": "f98516e8",
   "metadata": {},
   "outputs": [
    {
     "data": {
      "text/plain": [
       "'Hello'"
      ]
     },
     "execution_count": 7,
     "metadata": {},
     "output_type": "execute_result"
    }
   ],
   "source": [
    "'Hello, world!'[0:5]"
   ]
  },
  {
   "cell_type": "code",
   "execution_count": 8,
   "id": "f863593c",
   "metadata": {},
   "outputs": [
    {
     "data": {
      "text/plain": [
       "'Hello'"
      ]
     },
     "execution_count": 8,
     "metadata": {},
     "output_type": "execute_result"
    }
   ],
   "source": [
    "'Hello, world!'[:5]"
   ]
  },
  {
   "cell_type": "code",
   "execution_count": 9,
   "id": "5f03ff38",
   "metadata": {},
   "outputs": [
    {
     "data": {
      "text/plain": [
       "'lo, world!'"
      ]
     },
     "execution_count": 9,
     "metadata": {},
     "output_type": "execute_result"
    }
   ],
   "source": [
    "'Hello, world!'[3:]"
   ]
  },
  {
   "cell_type": "markdown",
   "id": "d5622f8a",
   "metadata": {},
   "source": [
    "#### 7. What are the values of the following expressions?"
   ]
  },
  {
   "cell_type": "code",
   "execution_count": 10,
   "id": "ee3214d1",
   "metadata": {},
   "outputs": [
    {
     "data": {
      "text/plain": [
       "'HELLO'"
      ]
     },
     "execution_count": 10,
     "metadata": {},
     "output_type": "execute_result"
    }
   ],
   "source": [
    "'Hello'.upper()"
   ]
  },
  {
   "cell_type": "code",
   "execution_count": 11,
   "id": "69ea5607",
   "metadata": {},
   "outputs": [
    {
     "data": {
      "text/plain": [
       "True"
      ]
     },
     "execution_count": 11,
     "metadata": {},
     "output_type": "execute_result"
    }
   ],
   "source": [
    "'Hello'.upper().isupper()\n"
   ]
  },
  {
   "cell_type": "code",
   "execution_count": 12,
   "id": "917f891b",
   "metadata": {},
   "outputs": [
    {
     "data": {
      "text/plain": [
       "'hello'"
      ]
     },
     "execution_count": 12,
     "metadata": {},
     "output_type": "execute_result"
    }
   ],
   "source": [
    "'Hello'.upper().lower()"
   ]
  },
  {
   "cell_type": "markdown",
   "id": "aa341302",
   "metadata": {},
   "source": [
    "#### 8. What are the values of the following expressions?"
   ]
  },
  {
   "cell_type": "code",
   "execution_count": 13,
   "id": "b7a063d7",
   "metadata": {},
   "outputs": [
    {
     "data": {
      "text/plain": [
       "['Remember,', 'remember,', 'the', 'fifth', 'of', 'July.']"
      ]
     },
     "execution_count": 13,
     "metadata": {},
     "output_type": "execute_result"
    }
   ],
   "source": [
    "'Remember, remember, the fifth of July.'.split()"
   ]
  },
  {
   "cell_type": "code",
   "execution_count": 14,
   "id": "aadb2fc3",
   "metadata": {},
   "outputs": [
    {
     "data": {
      "text/plain": [
       "'There-can-only-one.'"
      ]
     },
     "execution_count": 14,
     "metadata": {},
     "output_type": "execute_result"
    }
   ],
   "source": [
    "'-'.join('There can only one.'.split())"
   ]
  },
  {
   "cell_type": "markdown",
   "id": "00d0f5d6",
   "metadata": {},
   "source": [
    "### 9. What are the methods for right-justifying, left-justifying, and centering a string?"
   ]
  },
  {
   "cell_type": "code",
   "execution_count": 18,
   "id": "a4b6f3a6",
   "metadata": {},
   "outputs": [
    {
     "data": {
      "text/plain": [
       "'**ABCD'"
      ]
     },
     "execution_count": 18,
     "metadata": {},
     "output_type": "execute_result"
    }
   ],
   "source": [
    "#right justify\n",
    "A=\"ABCD\"\n",
    "A.rjust(6,'*')"
   ]
  },
  {
   "cell_type": "code",
   "execution_count": 20,
   "id": "6f977a44",
   "metadata": {},
   "outputs": [
    {
     "data": {
      "text/plain": [
       "'*ABCD*'"
      ]
     },
     "execution_count": 20,
     "metadata": {},
     "output_type": "execute_result"
    }
   ],
   "source": [
    "#center\n",
    "A=\"ABCD\"\n",
    "A.center(6,'*')"
   ]
  },
  {
   "cell_type": "code",
   "execution_count": 21,
   "id": "6576c656",
   "metadata": {},
   "outputs": [
    {
     "data": {
      "text/plain": [
       "'ABCD**'"
      ]
     },
     "execution_count": 21,
     "metadata": {},
     "output_type": "execute_result"
    }
   ],
   "source": [
    "#left justify\n",
    "A= \"ABCD\"\n",
    "A.ljust(6,'*')"
   ]
  },
  {
   "cell_type": "markdown",
   "id": "8e7f4ec8",
   "metadata": {},
   "source": [
    "#### 10. What is the best way to remove whitespace characters from the start or end?"
   ]
  },
  {
   "cell_type": "code",
   "execution_count": 23,
   "id": "4301ff81",
   "metadata": {},
   "outputs": [],
   "source": [
    "Hello = \"   Hello   \""
   ]
  },
  {
   "cell_type": "code",
   "execution_count": 24,
   "id": "de40e068",
   "metadata": {},
   "outputs": [
    {
     "data": {
      "text/plain": [
       "'Hello   '"
      ]
     },
     "execution_count": 24,
     "metadata": {},
     "output_type": "execute_result"
    }
   ],
   "source": [
    "Hello.lstrip()\n"
   ]
  },
  {
   "cell_type": "code",
   "execution_count": 25,
   "id": "a52b85e6",
   "metadata": {},
   "outputs": [
    {
     "data": {
      "text/plain": [
       "'   Hello'"
      ]
     },
     "execution_count": 25,
     "metadata": {},
     "output_type": "execute_result"
    }
   ],
   "source": [
    "Hello.rstrip()"
   ]
  },
  {
   "cell_type": "code",
   "execution_count": 26,
   "id": "99e4982c",
   "metadata": {},
   "outputs": [
    {
     "data": {
      "text/plain": [
       "'Hello'"
      ]
     },
     "execution_count": 26,
     "metadata": {},
     "output_type": "execute_result"
    }
   ],
   "source": [
    "Hello.strip()"
   ]
  },
  {
   "cell_type": "code",
   "execution_count": null,
   "id": "730fc0c8",
   "metadata": {},
   "outputs": [],
   "source": []
  }
 ],
 "metadata": {
  "kernelspec": {
   "display_name": "Python 3 (ipykernel)",
   "language": "python",
   "name": "python3"
  },
  "language_info": {
   "codemirror_mode": {
    "name": "ipython",
    "version": 3
   },
   "file_extension": ".py",
   "mimetype": "text/x-python",
   "name": "python",
   "nbconvert_exporter": "python",
   "pygments_lexer": "ipython3",
   "version": "3.9.12"
  }
 },
 "nbformat": 4,
 "nbformat_minor": 5
}
