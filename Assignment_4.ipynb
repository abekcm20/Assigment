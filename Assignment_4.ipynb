{
 "cells": [
  {
   "cell_type": "markdown",
   "id": "1635b923",
   "metadata": {},
   "source": [
    "#### 1. What exactly is []?"
   ]
  },
  {
   "cell_type": "markdown",
   "id": "ba9dd516",
   "metadata": {},
   "source": [
    "Python list can created using square brackets"
   ]
  },
  {
   "cell_type": "markdown",
   "id": "4b5dad1d",
   "metadata": {},
   "source": [
    "#### 2. In a list of values stored in a variable called spam, how would you assign the value &#39;hello&#39; as the third value? (Assume [2, 4, 6, 8, 10] are in spam.)"
   ]
  },
  {
   "cell_type": "code",
   "execution_count": 1,
   "id": "9059b5df",
   "metadata": {},
   "outputs": [],
   "source": [
    "spam = [2,4,6,8,10]"
   ]
  },
  {
   "cell_type": "code",
   "execution_count": 2,
   "id": "3acb8d8e",
   "metadata": {},
   "outputs": [
    {
     "name": "stdout",
     "output_type": "stream",
     "text": [
      "[2, 4, 6, 8, 10]\n"
     ]
    }
   ],
   "source": [
    "print(spam)"
   ]
  },
  {
   "cell_type": "code",
   "execution_count": 3,
   "id": "8277477e",
   "metadata": {},
   "outputs": [
    {
     "name": "stdout",
     "output_type": "stream",
     "text": [
      "[2, 4, 6, 'hello', 8, 10]\n"
     ]
    }
   ],
   "source": [
    "spam.insert(3,'hello')\n",
    "print(spam)"
   ]
  },
  {
   "cell_type": "code",
   "execution_count": 7,
   "id": "8324faed",
   "metadata": {},
   "outputs": [],
   "source": [
    "spam = ['a','b','c','d']"
   ]
  },
  {
   "cell_type": "markdown",
   "id": "3a6c34fb",
   "metadata": {},
   "source": [
    "#### 3. What is the value of spam[int(int(&#39;3&#39; * 2) / 11)]?"
   ]
  },
  {
   "cell_type": "markdown",
   "id": "c0a5dcca",
   "metadata": {},
   "source": [
    "ans. b"
   ]
  },
  {
   "cell_type": "markdown",
   "id": "cd37f17f",
   "metadata": {},
   "source": [
    "#### 4. What is the value of spam[-1]?"
   ]
  },
  {
   "cell_type": "markdown",
   "id": "7bf80eac",
   "metadata": {},
   "source": [
    "ans. d"
   ]
  },
  {
   "cell_type": "markdown",
   "id": "0ce31111",
   "metadata": {},
   "source": [
    "#### 5. What is the value of spam[:2]?"
   ]
  },
  {
   "cell_type": "markdown",
   "id": "3a727c8d",
   "metadata": {},
   "source": [
    "ans a,b"
   ]
  },
  {
   "cell_type": "markdown",
   "id": "a3bccca9",
   "metadata": {},
   "source": [
    "#### Let&#39;s pretend bacon has the list [3.14, &#39;cat,&#39; 11, &#39;cat,&#39; True] for the next three questions."
   ]
  },
  {
   "cell_type": "markdown",
   "id": "031d847d",
   "metadata": {},
   "source": [
    "#### 6. What is the value of bacon.index(&#39;cat&#39;)?"
   ]
  },
  {
   "cell_type": "markdown",
   "id": "c740cc4b",
   "metadata": {},
   "source": [
    "ans.  1"
   ]
  },
  {
   "cell_type": "markdown",
   "id": "36daba13",
   "metadata": {},
   "source": [
    "#### 7. How does bacon.append(99) change the look of the list value in bacon?"
   ]
  },
  {
   "cell_type": "code",
   "execution_count": 13,
   "id": "32b0a17f",
   "metadata": {},
   "outputs": [],
   "source": [
    "bacon =  [3.14, 'cat', 11,'cat', True]"
   ]
  },
  {
   "cell_type": "code",
   "execution_count": 14,
   "id": "2c0b5574",
   "metadata": {},
   "outputs": [
    {
     "name": "stdout",
     "output_type": "stream",
     "text": [
      "[3.14, 'cat', 11, 'cat', True, 99]\n"
     ]
    }
   ],
   "source": [
    "bacon.append(99)\n",
    "print(bacon)"
   ]
  },
  {
   "cell_type": "markdown",
   "id": "61efd823",
   "metadata": {},
   "source": [
    "#### 8. How does bacon.remove(&#39;cat&#39;) change the look of the list in bacon?"
   ]
  },
  {
   "cell_type": "code",
   "execution_count": 15,
   "id": "4e9fa8f9",
   "metadata": {},
   "outputs": [
    {
     "name": "stdout",
     "output_type": "stream",
     "text": [
      "[3.14, 11, 'cat', True, 99]\n"
     ]
    }
   ],
   "source": [
    "bacon.remove('cat')\n",
    "print(bacon)"
   ]
  },
  {
   "cell_type": "markdown",
   "id": "6e339f62",
   "metadata": {},
   "source": [
    "#### 9. What are the list concatenation and list replication operators?"
   ]
  },
  {
   "cell_type": "markdown",
   "id": "cca5f47a",
   "metadata": {},
   "source": [
    " (+) is concatenation operator and (*) is replication operator."
   ]
  },
  {
   "cell_type": "code",
   "execution_count": 16,
   "id": "fdd7d3f6",
   "metadata": {},
   "outputs": [
    {
     "name": "stdout",
     "output_type": "stream",
     "text": [
      "[1, 2, 3, 4, 5, 6]\n"
     ]
    }
   ],
   "source": [
    "l1 = [1,2,3]\n",
    "l2 = [4,5,6]\n",
    "l3 = l1+l2\n",
    "print(l3)"
   ]
  },
  {
   "cell_type": "code",
   "execution_count": 18,
   "id": "6587a404",
   "metadata": {},
   "outputs": [
    {
     "name": "stdout",
     "output_type": "stream",
     "text": [
      "[1, 2, 3, 1, 2, 3]\n"
     ]
    }
   ],
   "source": [
    "l1 = [1,2,3]\n",
    "l3 = l1*2\n",
    "print(l3)"
   ]
  },
  {
   "cell_type": "markdown",
   "id": "e085ba42",
   "metadata": {},
   "source": [
    "#### 10. What is difference between the list methods append() and insert()?"
   ]
  },
  {
   "cell_type": "markdown",
   "id": "3300f09c",
   "metadata": {},
   "source": [
    "append() - It adds the value at the last of list"
   ]
  },
  {
   "cell_type": "markdown",
   "id": "dbdf8d02",
   "metadata": {},
   "source": [
    "insert() - It adds value at particular index which is mentioned"
   ]
  },
  {
   "cell_type": "markdown",
   "id": "a7beb5d0",
   "metadata": {},
   "source": [
    "#### 11. What are the two methods for removing items from a list?"
   ]
  },
  {
   "cell_type": "markdown",
   "id": "dc009a63",
   "metadata": {},
   "source": [
    "remove() and pop()"
   ]
  },
  {
   "cell_type": "markdown",
   "id": "3c456d93",
   "metadata": {},
   "source": [
    "#### 12. Describe how list values and string values are identical."
   ]
  },
  {
   "cell_type": "markdown",
   "id": "9a717233",
   "metadata": {},
   "source": [
    "1.both list and string indexing and slicing is used.\n",
    "\n",
    "2.both can iterate the data using loops\n",
    "\n",
    "3.Both can be concatinated"
   ]
  },
  {
   "cell_type": "markdown",
   "id": "c9180545",
   "metadata": {},
   "source": [
    "#### 13. What&#39;s the difference between tuples and lists?"
   ]
  },
  {
   "cell_type": "markdown",
   "id": "a07f302e",
   "metadata": {},
   "source": [
    "list are mutable,we can insert or delete the data, uple are immutable, the values of tuple can not be changed"
   ]
  },
  {
   "cell_type": "markdown",
   "id": "ecf25de8",
   "metadata": {},
   "source": [
    "#### 14. How do you type a tuple value that only contains the integer 42?"
   ]
  },
  {
   "cell_type": "code",
   "execution_count": 22,
   "id": "871ce5c9",
   "metadata": {},
   "outputs": [],
   "source": [
    "B = (42,)"
   ]
  },
  {
   "cell_type": "code",
   "execution_count": 23,
   "id": "bb701d81",
   "metadata": {},
   "outputs": [
    {
     "name": "stdout",
     "output_type": "stream",
     "text": [
      "(42,)\n"
     ]
    }
   ],
   "source": [
    "print(B)"
   ]
  },
  {
   "cell_type": "markdown",
   "id": "553b21fb",
   "metadata": {},
   "source": [
    "#### Q15. How do you get a list value's tuple form? How do you get a tuple value's list form?"
   ]
  },
  {
   "cell_type": "code",
   "execution_count": 25,
   "id": "82eb419c",
   "metadata": {},
   "outputs": [
    {
     "name": "stdout",
     "output_type": "stream",
     "text": [
      "[1, 2, 3, 4] (1, 2, 3, 4)\n"
     ]
    }
   ],
   "source": [
    "l = [1,2,3,4]\n",
    "t = tuple(l)\n",
    "print(l,t)"
   ]
  },
  {
   "cell_type": "code",
   "execution_count": 26,
   "id": "65eac73d",
   "metadata": {},
   "outputs": [
    {
     "name": "stdout",
     "output_type": "stream",
     "text": [
      "(1, 2, 3, 4) [1, 2, 3, 4]\n"
     ]
    }
   ],
   "source": [
    "l = (1,2,3,4)\n",
    "t = list(l)\n",
    "print(l,t)"
   ]
  },
  {
   "cell_type": "markdown",
   "id": "88d7f3df",
   "metadata": {},
   "source": [
    "#### Q16. Variables that \"contain\" list values are not necessarily lists themselves. Instead, what do they contain?"
   ]
  },
  {
   "cell_type": "markdown",
   "id": "4f72e6dd",
   "metadata": {},
   "source": [
    "references to list values"
   ]
  },
  {
   "cell_type": "markdown",
   "id": "10eb52d5",
   "metadata": {},
   "source": [
    "#### Q17. How do you distinguish between copy.copy() and copy.deepcopy()?"
   ]
  },
  {
   "cell_type": "markdown",
   "id": "90683084",
   "metadata": {},
   "source": [
    "copy.copy() is copy the reference\n",
    "copy.deepcopy() is create new list reference"
   ]
  },
  {
   "cell_type": "code",
   "execution_count": null,
   "id": "10dbdbe7",
   "metadata": {},
   "outputs": [],
   "source": []
  }
 ],
 "metadata": {
  "kernelspec": {
   "display_name": "Python 3 (ipykernel)",
   "language": "python",
   "name": "python3"
  },
  "language_info": {
   "codemirror_mode": {
    "name": "ipython",
    "version": 3
   },
   "file_extension": ".py",
   "mimetype": "text/x-python",
   "name": "python",
   "nbconvert_exporter": "python",
   "pygments_lexer": "ipython3",
   "version": "3.9.12"
  }
 },
 "nbformat": 4,
 "nbformat_minor": 5
}
