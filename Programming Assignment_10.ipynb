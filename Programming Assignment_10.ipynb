{
 "cells": [
  {
   "cell_type": "markdown",
   "id": "9cd6cd1c",
   "metadata": {},
   "source": [
    "## 1. Write a Python program to find sum of elements in list?"
   ]
  },
  {
   "cell_type": "code",
   "execution_count": 2,
   "id": "3fa092eb",
   "metadata": {},
   "outputs": [
    {
     "name": "stdout",
     "output_type": "stream",
     "text": [
      "Sum of elements in list is  141\n"
     ]
    }
   ],
   "source": [
    "Data_list=[6,4,3,2,45,3,1,43,34]\n",
    "sum=0\n",
    "for i in Data_list:\n",
    "    sum+=i\n",
    "print(\"Sum of elements in list is \",sum)"
   ]
  },
  {
   "cell_type": "markdown",
   "id": "7f0e1720",
   "metadata": {},
   "source": [
    "## 2. Write a Python program to Multiply all numbers in the list?"
   ]
  },
  {
   "cell_type": "code",
   "execution_count": 4,
   "id": "10393df8",
   "metadata": {},
   "outputs": [
    {
     "name": "stdout",
     "output_type": "stream",
     "text": [
      "Sum of elements in list is  28421280\n"
     ]
    }
   ],
   "source": [
    "mul=1\n",
    "for i in Data_list:\n",
    "    mul = mul * i\n",
    "print(\"Sum of elements in list is \",mul)"
   ]
  },
  {
   "cell_type": "markdown",
   "id": "8f1594f6",
   "metadata": {},
   "source": [
    "## 3. Write a Python program to find smallest number in a list?"
   ]
  },
  {
   "cell_type": "code",
   "execution_count": 6,
   "id": "35e3f008",
   "metadata": {},
   "outputs": [
    {
     "name": "stdout",
     "output_type": "stream",
     "text": [
      "smallest number in a list is  1\n"
     ]
    }
   ],
   "source": [
    "small=Data_list[0]\n",
    "for i in Data_list:\n",
    "    if(i<small):\n",
    "        small=i\n",
    "print(\"smallest number in a list is \",small)"
   ]
  },
  {
   "cell_type": "markdown",
   "id": "c01bd1c3",
   "metadata": {},
   "source": [
    "## 4. Write a Python program to find largest number in a list?"
   ]
  },
  {
   "cell_type": "code",
   "execution_count": 7,
   "id": "a631fd69",
   "metadata": {},
   "outputs": [
    {
     "name": "stdout",
     "output_type": "stream",
     "text": [
      "largest number in a list is  45\n"
     ]
    }
   ],
   "source": [
    "max=Data_list[0]\n",
    "for i in Data_list:\n",
    "    if(i>max):\n",
    "        max=i\n",
    "print(\"largest number in a list is \",max)"
   ]
  },
  {
   "cell_type": "markdown",
   "id": "52ff67d6",
   "metadata": {},
   "source": [
    "## 5. Write a Python program to find second largest number in a list?"
   ]
  },
  {
   "cell_type": "code",
   "execution_count": 8,
   "id": "40f8b3a9",
   "metadata": {},
   "outputs": [
    {
     "name": "stdout",
     "output_type": "stream",
     "text": [
      "second largest number in a list is  43\n"
     ]
    }
   ],
   "source": [
    "max=Data_list[0]\n",
    "second_max=Data_list[0]\n",
    "for i in Data_list:\n",
    "    if(i>max):\n",
    "        max=i\n",
    "for i in Data_list:\n",
    "    if(i>second_max)and(i!=max):\n",
    "        second_max=i\n",
    "print(\"second largest number in a list is \",second_max)"
   ]
  },
  {
   "cell_type": "markdown",
   "id": "c312e5ea",
   "metadata": {},
   "source": [
    "## 6. Write a Python program to find N largest elements from a list?"
   ]
  },
  {
   "cell_type": "code",
   "execution_count": 9,
   "id": "5747c4bc",
   "metadata": {},
   "outputs": [
    {
     "name": "stdout",
     "output_type": "stream",
     "text": [
      "Enter the value of N: 5\n",
      "[4, 6, 34, 43, 45]\n"
     ]
    }
   ],
   "source": [
    "n = int(input(\"Enter the value of N: \"))\n",
    "Data_list.sort()\n",
    "print(Data_list[-n:])"
   ]
  },
  {
   "cell_type": "markdown",
   "id": "71e71132",
   "metadata": {},
   "source": [
    "## 7. Write a Python program to print even numbers in a list?"
   ]
  },
  {
   "cell_type": "code",
   "execution_count": 10,
   "id": "31a235d4",
   "metadata": {},
   "outputs": [
    {
     "name": "stdout",
     "output_type": "stream",
     "text": [
      "2\n",
      "4\n",
      "6\n",
      "34\n"
     ]
    }
   ],
   "source": [
    "for i in Data_list:\n",
    "    if(i%2==0):\n",
    "        print(i)"
   ]
  },
  {
   "cell_type": "markdown",
   "id": "566afabf",
   "metadata": {},
   "source": [
    "## 8. Write a Python program to print odd numbers in a List?"
   ]
  },
  {
   "cell_type": "code",
   "execution_count": 11,
   "id": "dd188f73",
   "metadata": {},
   "outputs": [
    {
     "name": "stdout",
     "output_type": "stream",
     "text": [
      "1\n",
      "3\n",
      "3\n",
      "43\n",
      "45\n"
     ]
    }
   ],
   "source": [
    "for i in Data_list:\n",
    "    if(i%2!=0):\n",
    "        print(i)"
   ]
  },
  {
   "cell_type": "markdown",
   "id": "62e0474a",
   "metadata": {},
   "source": [
    "## 9. Write a Python program to Remove empty List from List?"
   ]
  },
  {
   "cell_type": "code",
   "execution_count": 12,
   "id": "813cf235",
   "metadata": {},
   "outputs": [
    {
     "name": "stdout",
     "output_type": "stream",
     "text": [
      "[67, 76, 32]\n"
     ]
    }
   ],
   "source": [
    "list=[67,[],76,32,[]]\n",
    "list_1=[]\n",
    "for i in list:\n",
    "    if(i):\n",
    "        list_1.append(i)\n",
    "print(list_1)"
   ]
  },
  {
   "cell_type": "markdown",
   "id": "568efa4f",
   "metadata": {},
   "source": [
    "## 10. Write a Python program to Cloning or Copying a list?"
   ]
  },
  {
   "cell_type": "code",
   "execution_count": 13,
   "id": "5c0bebb0",
   "metadata": {},
   "outputs": [
    {
     "name": "stdout",
     "output_type": "stream",
     "text": [
      "Original list:  [87, 7, 56, 98, 1, 2, 45]\n",
      "List after copy: [87, 7, 56, 98, 1, 2, 45]\n"
     ]
    }
   ],
   "source": [
    "l=[87, 7, 56, 98, 1, 2, 45]\n",
    "l1=l.copy()\n",
    "print(\"Original list: \",l)\n",
    "print(\"List after copy:\",l1)"
   ]
  },
  {
   "cell_type": "markdown",
   "id": "b511f7d0",
   "metadata": {},
   "source": [
    "## 11. Write a Python program to Count occurrences of an element in a list?"
   ]
  },
  {
   "cell_type": "code",
   "execution_count": 15,
   "id": "a492a527",
   "metadata": {},
   "outputs": [
    {
     "name": "stdout",
     "output_type": "stream",
     "text": [
      "3 occurred 2 times\n"
     ]
    }
   ],
   "source": [
    "data=[5,34,23,44,2,3,3,2,5,65]\n",
    "count=0\n",
    "a=3\n",
    "for i in data:\n",
    "    if(i==a):\n",
    "        count+=1\n",
    "print(f\"{a} occurred {count} times\")"
   ]
  },
  {
   "cell_type": "code",
   "execution_count": null,
   "id": "fb7fceb8",
   "metadata": {},
   "outputs": [],
   "source": []
  }
 ],
 "metadata": {
  "kernelspec": {
   "display_name": "Python 3 (ipykernel)",
   "language": "python",
   "name": "python3"
  },
  "language_info": {
   "codemirror_mode": {
    "name": "ipython",
    "version": 3
   },
   "file_extension": ".py",
   "mimetype": "text/x-python",
   "name": "python",
   "nbconvert_exporter": "python",
   "pygments_lexer": "ipython3",
   "version": "3.9.13"
  }
 },
 "nbformat": 4,
 "nbformat_minor": 5
}
