{
 "cells": [
  {
   "cell_type": "markdown",
   "id": "93fa2431",
   "metadata": {},
   "source": [
    "## 1. What is the name of the feature responsible for generating Regex objects?"
   ]
  },
  {
   "cell_type": "markdown",
   "id": "2dfc56ec",
   "metadata": {},
   "source": [
    "re.compile()"
   ]
  },
  {
   "cell_type": "markdown",
   "id": "cadaa6df",
   "metadata": {},
   "source": [
    "## 2. Why do raw strings often appear in Regex objects?"
   ]
  },
  {
   "cell_type": "markdown",
   "id": "ad7201c7",
   "metadata": {},
   "source": [
    "Raw string are used for some purpose like new line. when we used backslashes do not have to be removed"
   ]
  },
  {
   "cell_type": "markdown",
   "id": "aad8903a",
   "metadata": {},
   "source": [
    "## 3. What is the return value of the search() method?"
   ]
  },
  {
   "cell_type": "markdown",
   "id": "49ae0422",
   "metadata": {},
   "source": [
    "its searching the match in given string"
   ]
  },
  {
   "cell_type": "code",
   "execution_count": 6,
   "id": "43dd1a54",
   "metadata": {},
   "outputs": [
    {
     "name": "stdout",
     "output_type": "stream",
     "text": [
      "<re.Match object; span=(0, 8), match='Abhishek'>\n"
     ]
    }
   ],
   "source": [
    "import re\n",
    "first_name = 'Abhishek'\n",
    "full_name = 'Abhishek C M'\n",
    "print(re.search(first_name,full_name))"
   ]
  },
  {
   "cell_type": "code",
   "execution_count": 7,
   "id": "40d6313b",
   "metadata": {},
   "outputs": [
    {
     "name": "stdout",
     "output_type": "stream",
     "text": [
      "None\n"
     ]
    }
   ],
   "source": [
    "print(re.search('j',full_name))"
   ]
  },
  {
   "cell_type": "markdown",
   "id": "a28d4cc4",
   "metadata": {},
   "source": [
    "## 4. From a Match item, how do you get the actual strings that match the pattern?"
   ]
  },
  {
   "cell_type": "code",
   "execution_count": 10,
   "id": "676dc40b",
   "metadata": {},
   "outputs": [
    {
     "name": "stdout",
     "output_type": "stream",
     "text": [
      "output: Abhishek\n"
     ]
    }
   ],
   "source": [
    "print('output:',re.search(first_name,full_name).group())"
   ]
  },
  {
   "cell_type": "markdown",
   "id": "c5c10788",
   "metadata": {},
   "source": [
    "## 5. In the regex which created from the r&#39;(\\d\\d\\d)-(\\d\\d\\d-\\d\\d\\d\\d)&#39;, what does group zero cover? Group 2? Group 1?"
   ]
  },
  {
   "cell_type": "code",
   "execution_count": 14,
   "id": "f70bb36e",
   "metadata": {},
   "outputs": [
    {
     "name": "stdout",
     "output_type": "stream",
     "text": [
      "('763', '890-4242')\n",
      "763-890-4242\n",
      "763\n",
      "890-4242\n"
     ]
    }
   ],
   "source": [
    "phoneNum = re.compile(r'(\\d\\d\\d)-(\\d\\d\\d-\\d\\d\\d\\d)')\n",
    "my_number = phoneNum.search('Number 763-890-4242.')\n",
    "print(my_number.groups())\n",
    "print(my_number.group()) \n",
    "print(my_number.group(1))\n",
    "print(my_number.group(2)) "
   ]
  },
  {
   "cell_type": "markdown",
   "id": "e03a3f55",
   "metadata": {},
   "source": [
    "## 6. In standard expression syntax, parentheses and intervals have distinct meanings. How can you tell a regex that you want it to fit real parentheses and periods?"
   ]
  },
  {
   "cell_type": "markdown",
   "id": "672106be",
   "metadata": {},
   "source": [
    "\\. \\( and \\) escape characters in the raw string and passed to re.compile() it will match actual parenthesis characters"
   ]
  },
  {
   "cell_type": "markdown",
   "id": "e9414013",
   "metadata": {},
   "source": [
    "## 7. The findall() method returns a string list or a list of string tuples. What causes it to return one of the two options?"
   ]
  },
  {
   "cell_type": "markdown",
   "id": "0667c114",
   "metadata": {},
   "source": [
    "if regex pattern is no group then its string in list, if we have group then its a tuple"
   ]
  },
  {
   "cell_type": "markdown",
   "id": "8c021826",
   "metadata": {},
   "source": [
    "## 8. In standard expressions, what does the | character mean?"
   ]
  },
  {
   "cell_type": "markdown",
   "id": "97597df4",
   "metadata": {},
   "source": [
    "Or operation"
   ]
  },
  {
   "cell_type": "markdown",
   "id": "40e7e858",
   "metadata": {},
   "source": [
    "## 9. In regular expressions, what does the character stand for?"
   ]
  },
  {
   "cell_type": "markdown",
   "id": "4d65c4d1",
   "metadata": {},
   "source": [
    "Its means zero or matching one group"
   ]
  },
  {
   "cell_type": "code",
   "execution_count": 15,
   "id": "b8942b2e",
   "metadata": {},
   "outputs": [
    {
     "name": "stdout",
     "output_type": "stream",
     "text": [
      "<re.Match object; span=(0, 8), match='Abhishek'>\n"
     ]
    }
   ],
   "source": [
    "print(re.search('Ab(hish)?ek','Abhishek CM'))"
   ]
  },
  {
   "cell_type": "markdown",
   "id": "ba7e71aa",
   "metadata": {},
   "source": [
    "## 10.In regular expressions, what is the difference between the + and * characters?"
   ]
  },
  {
   "cell_type": "markdown",
   "id": "420db6ce",
   "metadata": {},
   "source": [
    " * means zero or more  occurances and + means one or more  occurances"
   ]
  },
  {
   "cell_type": "code",
   "execution_count": 19,
   "id": "0b1e1471",
   "metadata": {},
   "outputs": [
    {
     "name": "stdout",
     "output_type": "stream",
     "text": [
      "<re.Match object; span=(0, 4), match='Abek'>\n"
     ]
    }
   ],
   "source": [
    "print(re.search('Ab(hish)*ek','Abek CM'))"
   ]
  },
  {
   "cell_type": "code",
   "execution_count": 20,
   "id": "78e1d8dc",
   "metadata": {},
   "outputs": [
    {
     "name": "stdout",
     "output_type": "stream",
     "text": [
      "<re.Match object; span=(0, 8), match='Abhishek'>\n"
     ]
    }
   ],
   "source": [
    "print(re.search('Ab(hish)+ek','Abhishek CM'))"
   ]
  },
  {
   "cell_type": "markdown",
   "id": "fb624013",
   "metadata": {},
   "source": [
    "## 11. What is the difference between {4} and {4,5} in regular expression?"
   ]
  },
  {
   "cell_type": "markdown",
   "id": "ff51d2ab",
   "metadata": {},
   "source": [
    "{4} means group repeated 4 time amd {4,5} means group repeated 4 to 5 times"
   ]
  },
  {
   "cell_type": "markdown",
   "id": "dc62c9e1",
   "metadata": {},
   "source": [
    "## 12. What do you mean by the \\d, \\w, and \\s shorthand character classes signify in regular expressions?"
   ]
  },
  {
   "cell_type": "markdown",
   "id": "7df21556",
   "metadata": {},
   "source": [
    "\\w – Matches word character equivalent to [a-z,A-Z,0-9_]\n",
    "\\d – Matches digit character equivalent to [0-9]\n",
    "\\s – Matches whitespace character (space, tab, newline, etc.)"
   ]
  },
  {
   "cell_type": "markdown",
   "id": "5ca2d041",
   "metadata": {},
   "source": [
    "## 13. What do means by \\D, \\W, and \\S shorthand character classes signify in regular expressions?"
   ]
  },
  {
   "cell_type": "markdown",
   "id": "bfd2d38e",
   "metadata": {},
   "source": [
    "\\W – Matches any non alphanumeric character equivalent to [^a-zA-Z0-9_]\n",
    "\\D – Matches any non digit character, this is equivalent to the set class [^0-9]\n",
    "\\S – Matches any non whitespace character"
   ]
  },
  {
   "cell_type": "markdown",
   "id": "803d5e5a",
   "metadata": {},
   "source": [
    "## 14. What is the difference between .*? and .* ?"
   ]
  },
  {
   "cell_type": "markdown",
   "id": "88f2634b",
   "metadata": {},
   "source": [
    ".* is a Greedy mode, which returns the longest string .*? is a non greedy mode which returns the shortest string"
   ]
  },
  {
   "cell_type": "markdown",
   "id": "a6db4dee",
   "metadata": {},
   "source": [
    "## 15. What is the syntax for matching both numbers and lowercase letters with a character class?"
   ]
  },
  {
   "cell_type": "markdown",
   "id": "925ce1fa",
   "metadata": {},
   "source": [
    "[a-z0-9]"
   ]
  },
  {
   "cell_type": "markdown",
   "id": "b80f500d",
   "metadata": {},
   "source": [
    "## 16. What is the procedure for making a normal expression in regax case insensitive?"
   ]
  },
  {
   "cell_type": "markdown",
   "id": "1b5289e0",
   "metadata": {},
   "source": [
    "we can use (re.IGNORECASE) this one for insensitive"
   ]
  },
  {
   "cell_type": "markdown",
   "id": "5c0a77bb",
   "metadata": {},
   "source": [
    "## 17. What does the . character normally match? What does it match if re.DOTALL is passed as 2nd argument in re.compile()?"
   ]
  },
  {
   "cell_type": "markdown",
   "id": "c16c4872",
   "metadata": {},
   "source": [
    ". can match everything in string but not new line, using re.DOTALL we can match evrything in string"
   ]
  },
  {
   "cell_type": "markdown",
   "id": "2d3173a8",
   "metadata": {},
   "source": [
    "## 18. If numReg = re.compile(r&#39;\\d+&#39;), what will numRegex.sub(&#39;X&#39;, &#39;11 drummers, 10 pipers, five rings, 4 hen&#39;) return?"
   ]
  },
  {
   "cell_type": "code",
   "execution_count": 22,
   "id": "40b9b0e0",
   "metadata": {},
   "outputs": [
    {
     "data": {
      "text/plain": [
       "'X drummers, X pipers, five rings, X hen'"
      ]
     },
     "execution_count": 22,
     "metadata": {},
     "output_type": "execute_result"
    }
   ],
   "source": [
    "numReg = re.compile(r'\\d+')\n",
    "numReg.sub('X', '11 drummers, 10 pipers, five rings, 4 hen')"
   ]
  },
  {
   "cell_type": "markdown",
   "id": "de3f7311",
   "metadata": {},
   "source": [
    "## 19. What does passing re.VERBOSE as the 2nd argument to re.compile() allow to do?"
   ]
  },
  {
   "cell_type": "markdown",
   "id": "4d1d5113",
   "metadata": {},
   "source": [
    "re.VERBOSE will allow to add whitespace and comments "
   ]
  },
  {
   "cell_type": "markdown",
   "id": "fffea68f",
   "metadata": {},
   "source": [
    "## 20. How would you write a regex that match a number with comma for every three digits? It must  match the given following:\n",
    "### &#39;42&#39;\n",
    "### &#39;1,234&#39;\n",
    "### &#39;6,368,745&#39;\n",
    "### but not the following:\n",
    "### &#39;12,34,567&#39; (which has only two digits between the commas)\n",
    "### &#39;1234&#39; (which lacks commas)"
   ]
  },
  {
   "cell_type": "code",
   "execution_count": 30,
   "id": "d57a8fbb",
   "metadata": {},
   "outputs": [
    {
     "name": "stdout",
     "output_type": "stream",
     "text": [
      "Output: 42  -> <re.Match object; span=(0, 9), match='6,368,745'>\n",
      "Output: 1,234  -> <re.Match object; span=(0, 9), match='6,368,745'>\n",
      "Output: 6,368,745  -> <re.Match object; span=(0, 9), match='6,368,745'>\n",
      "Output: 12,34,567  -> <re.Match object; span=(0, 9), match='6,368,745'>\n",
      "Output: 1234  -> <re.Match object; span=(0, 9), match='6,368,745'>\n"
     ]
    }
   ],
   "source": [
    "pattern = r'^\\d{1,3}(,\\d{3})*$'\n",
    "res = re.compile(pattern)\n",
    "for i in ['42','1,234', '6,368,745','12,34,567','1234']:\n",
    "    print('Output:' ,i,' ->', res.search(ele))"
   ]
  },
  {
   "cell_type": "markdown",
   "id": "e4bc02ae",
   "metadata": {},
   "source": [
    "## 21. How would you write a regex that matches the full name of someone whose last name is Watanabe? You can assume that the first name that comes before it will always be one word that begins with a capital letter. The regex must match the following:\n",
    "### &#39;Haruto Watanabe&#39;\n",
    "### &#39;Alice Watanabe&#39;\n",
    "### &#39;RoboCop Watanabe&#39; but not the following:\n",
    "### &#39;haruto Watanabe&#39; (where the first name is not capitalized)\n",
    "### &#39;Mr. Watanabe&#39; (where the preceding word has a nonletter character)\n",
    "### &#39;Watanabe&#39; (which has no first name)\n",
    "### &#39;Haruto watanabe&#39; (where Watanabe is not capitalized)"
   ]
  },
  {
   "cell_type": "code",
   "execution_count": 33,
   "id": "bd9cf46d",
   "metadata": {},
   "outputs": [
    {
     "name": "stdout",
     "output_type": "stream",
     "text": [
      "Output:  Haruto Watanabe -> <re.Match object; span=(0, 15), match='Haruto Watanabe'>\n",
      "Output:  Alice Watanabe -> <re.Match object; span=(0, 14), match='Alice Watanabe'>\n",
      "Output:  RoboCop Watanabe -> <re.Match object; span=(4, 16), match='Cop Watanabe'>\n",
      "Output:  haruto Watanabe -> None\n",
      "Output:  Mr. Watanabe -> None\n",
      "Output:  Watanabe -> None\n",
      "Output:  Haruto watanabe -> None\n"
     ]
    }
   ],
   "source": [
    "pattern = r'[A-Z]{1}[a-z]*\\sWatanabe'\n",
    "name = re.compile(pattern)\n",
    "for i in ['Haruto Watanabe','Alice Watanabe','RoboCop Watanabe','haruto Watanabe','Mr. Watanabe','Watanabe','Haruto watanabe']:\n",
    "    print('Output: ',i,'->',name.search(i))"
   ]
  },
  {
   "cell_type": "markdown",
   "id": "8807d051",
   "metadata": {},
   "source": [
    "## 22. How would you write a regex that matches a sentence where the first word is either Alice, Bob, or Carol; the second word is either eats, pets, or throws; the third word is apples, cats, or baseballs; and the sentence ends with a period? This regex should be case-insensitive. It must match the following:\n",
    "### &#39;Alice eats apples.&#39;\n",
    "### &#39;Bob pets cats.&#39;\n",
    "### &#39;Carol throws baseballs.&#39;\n",
    "### &#39;Alice throws Apples.&#39;\n",
    "### &#39;BOB EATS CATS.&#39;b but not the following:\n",
    "### &#39;RoboCop eats apples.&#39;\n",
    "### &#39;ALICE THROWS FOOTBALLS.&#39;\n",
    "### &#39;Carol eats 7 cats.&#39;"
   ]
  },
  {
   "cell_type": "code",
   "execution_count": 35,
   "id": "db01d1c1",
   "metadata": {},
   "outputs": [
    {
     "name": "stdout",
     "output_type": "stream",
     "text": [
      "Output:  Alice eats apples. -> <re.Match object; span=(0, 18), match='Alice eats apples.'>\n",
      "Output:  Bob pets cats. -> <re.Match object; span=(0, 14), match='Bob pets cats.'>\n",
      "Output:  Carol throws baseballs. -> <re.Match object; span=(0, 23), match='Carol throws baseballs.'>\n",
      "Output:  Alice throws Apples. -> <re.Match object; span=(0, 20), match='Alice throws Apples.'>\n",
      "Output:  BOB EATS CATS. -> <re.Match object; span=(0, 14), match='BOB EATS CATS.'>\n",
      "Output:  RoboCop eats apples. -> None\n",
      "Output:  ALICE THROWS FOOTBALLS. -> None\n",
      "Output:  Carol eats 7 cats. -> None\n"
     ]
    }
   ],
   "source": [
    "pattern = r'(Alice|Bob|Carol)\\s(eats|pets|throws)\\s(apples|cats|baseballs)\\.'\n",
    "name = re.compile(pattern,re.IGNORECASE)\n",
    "for i in ['Alice eats apples.','Bob pets cats.','Carol throws baseballs.','Alice throws Apples.','BOB EATS CATS.','RoboCop eats apples.'\n",
    ",'ALICE THROWS FOOTBALLS.','Carol eats 7 cats.']:\n",
    "    print('Output: ',i,'->',name.search(i))"
   ]
  },
  {
   "cell_type": "code",
   "execution_count": null,
   "id": "d13ffc60",
   "metadata": {},
   "outputs": [],
   "source": []
  }
 ],
 "metadata": {
  "kernelspec": {
   "display_name": "Python 3 (ipykernel)",
   "language": "python",
   "name": "python3"
  },
  "language_info": {
   "codemirror_mode": {
    "name": "ipython",
    "version": 3
   },
   "file_extension": ".py",
   "mimetype": "text/x-python",
   "name": "python",
   "nbconvert_exporter": "python",
   "pygments_lexer": "ipython3",
   "version": "3.9.13"
  }
 },
 "nbformat": 4,
 "nbformat_minor": 5
}
