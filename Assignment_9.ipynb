{
 "cells": [
  {
   "cell_type": "markdown",
   "id": "7895a72e",
   "metadata": {},
   "source": [
    "## 1. To what does a relative path refer?"
   ]
  },
  {
   "cell_type": "markdown",
   "id": "e7c5247a",
   "metadata": {},
   "source": [
    "##### The relative path is the path to indentify file in our current working directory (PWD).\n",
    "##### if Absolute path for abhi.txt is: C:/users/admin/documents/abhi.txt, If PWD is C:/users/admin/ , then relative path for abhi.txt like /documnets/abhi.txt\n",
    "##### PWD + relative path = absolute path"
   ]
  },
  {
   "cell_type": "markdown",
   "id": "06a4a121",
   "metadata": {},
   "source": [
    "## 2. What does an absolute path start with your operating system?"
   ]
  },
  {
   "cell_type": "markdown",
   "id": "da43047a",
   "metadata": {},
   "source": [
    "In Linux / and for Windows C:"
   ]
  },
  {
   "cell_type": "markdown",
   "id": "89dc48d0",
   "metadata": {},
   "source": [
    "## 3. What do the functions os.getcwd() and os.chdir() do?"
   ]
  },
  {
   "cell_type": "markdown",
   "id": "e7d14641",
   "metadata": {},
   "source": [
    "os.getcwd() its return the current working directory and os.chdir() method used to change the current working directory "
   ]
  },
  {
   "cell_type": "markdown",
   "id": "098ab5b9",
   "metadata": {},
   "source": [
    "## 4. What are the . and .. folders?"
   ]
  },
  {
   "cell_type": "markdown",
   "id": "06b8ede6",
   "metadata": {},
   "source": [
    ". Represents the Current Directory Whereas .. Represents the Parent Directory of the Current Directory"
   ]
  },
  {
   "cell_type": "markdown",
   "id": "551c342a",
   "metadata": {},
   "source": [
    "## 5. In C:\\bacon\\eggs\\spam.txt, which part is the dir name, and which part is the base name?"
   ]
  },
  {
   "cell_type": "markdown",
   "id": "a7452cd7",
   "metadata": {},
   "source": [
    "dir name is C:\\\\bacon\\\\eggs\n",
    "Base name is spam.txt "
   ]
  },
  {
   "cell_type": "code",
   "execution_count": 1,
   "id": "42cc8975",
   "metadata": {},
   "outputs": [
    {
     "name": "stdout",
     "output_type": "stream",
     "text": [
      "C:\\bacon\\eggs\n",
      "spam.txt\n"
     ]
    }
   ],
   "source": [
    "import os\n",
    "path = r'C:\\bacon\\eggs\\spam.txt'\n",
    "print(os.path.dirname(path))\n",
    "print(os.path.basename(path))"
   ]
  },
  {
   "cell_type": "markdown",
   "id": "60d971d2",
   "metadata": {},
   "source": [
    "## 6. What are the three “mode” arguments that can be passed to the open() function?"
   ]
  },
  {
   "cell_type": "markdown",
   "id": "34894001",
   "metadata": {},
   "source": [
    " using open() we can access the file, oepn function takes two arguments filename and mode of operation.default mode is read mode\n",
    " \n",
    " r - Read mode: this is default mode. using this mode we can read the file\n",
    " w - Write mode: using this mode we can overwrite any existing content in file\n",
    " r+ - Read/Write: we can do both read and write \n",
    " a - Append mode: using this mode we can append the data without overwrite\n",
    " a+ - Append and read: using this mode we can read and append the data without overwrite\n",
    " x - Exclusive Creating Mode: is used to create new file\n",
    " "
   ]
  },
  {
   "cell_type": "markdown",
   "id": "1cb1dc7b",
   "metadata": {},
   "source": [
    "## 7. What happens if an existing file is opened in write mode?"
   ]
  },
  {
   "cell_type": "markdown",
   "id": "eb84d928",
   "metadata": {},
   "source": [
    "using this mode we can overwrite any existing content in file"
   ]
  },
  {
   "cell_type": "markdown",
   "id": "4163debc",
   "metadata": {},
   "source": [
    "## 8. How do you tell the difference between read() and readlines()?"
   ]
  },
  {
   "cell_type": "markdown",
   "id": "f0e9d11b",
   "metadata": {},
   "source": [
    "read() reads the entire contents of a file as string."
   ]
  },
  {
   "cell_type": "markdown",
   "id": "decd170a",
   "metadata": {},
   "source": [
    "readlines() reads the entire contents of a file as list of strings"
   ]
  },
  {
   "cell_type": "markdown",
   "id": "3e2139ee",
   "metadata": {},
   "source": [
    "## 9. What data structure does a shelf value resemble?"
   ]
  },
  {
   "cell_type": "markdown",
   "id": "635f5b19",
   "metadata": {},
   "source": [
    "keys and values"
   ]
  },
  {
   "cell_type": "code",
   "execution_count": null,
   "id": "1e4001d6",
   "metadata": {},
   "outputs": [],
   "source": []
  }
 ],
 "metadata": {
  "kernelspec": {
   "display_name": "Python 3 (ipykernel)",
   "language": "python",
   "name": "python3"
  },
  "language_info": {
   "codemirror_mode": {
    "name": "ipython",
    "version": 3
   },
   "file_extension": ".py",
   "mimetype": "text/x-python",
   "name": "python",
   "nbconvert_exporter": "python",
   "pygments_lexer": "ipython3",
   "version": "3.9.13"
  }
 },
 "nbformat": 4,
 "nbformat_minor": 5
}
